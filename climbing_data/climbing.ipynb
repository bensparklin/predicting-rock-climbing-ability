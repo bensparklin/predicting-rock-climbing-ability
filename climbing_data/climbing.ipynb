{
 "cells": [
  {
   "cell_type": "markdown",
   "id": "8435605e-d9bf-4017-b2e1-a01ed256058e",
   "metadata": {},
   "source": [
    "In this project I will build a model that predicts maximum bouldering grade"
   ]
  },
  {
   "cell_type": "code",
   "execution_count": 74,
   "id": "bc9298c6-3292-4ab4-951a-9049ef883cea",
   "metadata": {},
   "outputs": [],
   "source": [
    "import numpy as np\n",
    "import pandas as pd\n",
    "import matplotlib.pyplot as plt\n",
    "import seaborn as sns\n",
    "\n",
    "from sklearn.metrics import ConfusionMatrixDisplay\n",
    "from sklearn.metrics import confusion_matrix\n",
    "from sklearn.metrics import recall_score\n",
    "from sklearn.metrics import accuracy_score\n",
    "from sklearn.metrics import precision_score\n",
    "\n",
    "from sklearn.model_selection import GridSearchCV\n",
    "from sklearn.model_selection import train_test_split\n",
    "from sklearn.model_selection import RepeatedStratifiedKFold\n",
    "\n",
    "from sklearn.decomposition import PCA\n",
    "from sklearn.ensemble import RandomForestClassifier\n",
    "from sklearn.svm import SVC\n",
    "from xgboost import XGBClassifier\n",
    "from xgboost import plot_importance"
   ]
  },
  {
   "cell_type": "code",
   "execution_count": 9,
   "id": "8e69b1fb-62d8-4281-b905-831b7904e42a",
   "metadata": {},
   "outputs": [],
   "source": [
    "from IPython.core.interactiveshell import InteractiveShell\n",
    "InteractiveShell.ast_node_interactivity = \"all\""
   ]
  },
  {
   "cell_type": "markdown",
   "id": "913e154e-e72f-4987-b86d-64abc10f39bb",
   "metadata": {},
   "source": [
    "# Data exploration"
   ]
  },
  {
   "cell_type": "markdown",
   "id": "096a1982-9333-495f-aa4d-eeeb261bf484",
   "metadata": {},
   "source": [
    "There are 4 tables included in this dataset. Ascents describes the individual climbs each climber logged and user describes each of the climbers. Method and grades describe details about the types of climbs. "
   ]
  },
  {
   "cell_type": "code",
   "execution_count": 6,
   "id": "36efcc03-4f5e-4181-968d-eea05b3d9a84",
   "metadata": {},
   "outputs": [
    {
     "name": "stderr",
     "output_type": "stream",
     "text": [
      "/var/folders/h2/yfy4kgfn3l7_c6byc_fnzq340000gn/T/ipykernel_16781/1074713445.py:2: DtypeWarning: Columns (21) have mixed types. Specify dtype option on import or set low_memory=False.\n",
      "  ascents = pd.read_csv('ascents.csv')\n",
      "/var/folders/h2/yfy4kgfn3l7_c6byc_fnzq340000gn/T/ipykernel_16781/1074713445.py:5: DtypeWarning: Columns (15) have mixed types. Specify dtype option on import or set low_memory=False.\n",
      "  user = pd.read_csv('user.csv')\n"
     ]
    }
   ],
   "source": [
    "ascents = pd.read_csv('ascents.csv')\n",
    "grades = pd.read_csv('grades.csv')\n",
    "method = pd.read_csv('method.csv')\n",
    "user = pd.read_csv('user.csv')"
   ]
  },
  {
   "cell_type": "code",
   "execution_count": 101,
   "id": "2d0a3602-ebeb-47d7-8b7a-6933bc7fd03f",
   "metadata": {},
   "outputs": [
    {
     "data": {
      "text/html": [
       "<div>\n",
       "<style scoped>\n",
       "    .dataframe tbody tr th:only-of-type {\n",
       "        vertical-align: middle;\n",
       "    }\n",
       "\n",
       "    .dataframe tbody tr th {\n",
       "        vertical-align: top;\n",
       "    }\n",
       "\n",
       "    .dataframe thead th {\n",
       "        text-align: right;\n",
       "    }\n",
       "</style>\n",
       "<table border=\"1\" class=\"dataframe\">\n",
       "  <thead>\n",
       "    <tr style=\"text-align: right;\">\n",
       "      <th></th>\n",
       "      <th>id</th>\n",
       "      <th>user_id</th>\n",
       "      <th>grade_id</th>\n",
       "      <th>notes</th>\n",
       "      <th>raw_notes</th>\n",
       "      <th>method_id</th>\n",
       "      <th>climb_type</th>\n",
       "      <th>total_score</th>\n",
       "      <th>date</th>\n",
       "      <th>year</th>\n",
       "      <th>...</th>\n",
       "      <th>country</th>\n",
       "      <th>comment</th>\n",
       "      <th>rating</th>\n",
       "      <th>description</th>\n",
       "      <th>yellow_id</th>\n",
       "      <th>climb_try</th>\n",
       "      <th>repeat</th>\n",
       "      <th>exclude_from_ranking</th>\n",
       "      <th>user_recommended</th>\n",
       "      <th>chipped</th>\n",
       "    </tr>\n",
       "  </thead>\n",
       "  <tbody>\n",
       "    <tr>\n",
       "      <th>0</th>\n",
       "      <td>2</td>\n",
       "      <td>1</td>\n",
       "      <td>36</td>\n",
       "      <td>NaN</td>\n",
       "      <td>0</td>\n",
       "      <td>3</td>\n",
       "      <td>0</td>\n",
       "      <td>545</td>\n",
       "      <td>918342000</td>\n",
       "      <td>1999</td>\n",
       "      <td>...</td>\n",
       "      <td>THA</td>\n",
       "      <td>Thailand\\n</td>\n",
       "      <td>0</td>\n",
       "      <td>NaN</td>\n",
       "      <td>255</td>\n",
       "      <td>0</td>\n",
       "      <td>0</td>\n",
       "      <td>0</td>\n",
       "      <td>0</td>\n",
       "      <td>0</td>\n",
       "    </tr>\n",
       "    <tr>\n",
       "      <th>1</th>\n",
       "      <td>3</td>\n",
       "      <td>1</td>\n",
       "      <td>36</td>\n",
       "      <td>NaN</td>\n",
       "      <td>0</td>\n",
       "      <td>3</td>\n",
       "      <td>0</td>\n",
       "      <td>545</td>\n",
       "      <td>925509600</td>\n",
       "      <td>1999</td>\n",
       "      <td>...</td>\n",
       "      <td>NaN</td>\n",
       "      <td>\\n</td>\n",
       "      <td>0</td>\n",
       "      <td>NaN</td>\n",
       "      <td>0</td>\n",
       "      <td>0</td>\n",
       "      <td>0</td>\n",
       "      <td>0</td>\n",
       "      <td>0</td>\n",
       "      <td>0</td>\n",
       "    </tr>\n",
       "    <tr>\n",
       "      <th>2</th>\n",
       "      <td>4</td>\n",
       "      <td>1</td>\n",
       "      <td>36</td>\n",
       "      <td>NaN</td>\n",
       "      <td>0</td>\n",
       "      <td>3</td>\n",
       "      <td>0</td>\n",
       "      <td>545</td>\n",
       "      <td>933026400</td>\n",
       "      <td>1999</td>\n",
       "      <td>...</td>\n",
       "      <td>SWE</td>\n",
       "      <td>\\n</td>\n",
       "      <td>0</td>\n",
       "      <td>NaN</td>\n",
       "      <td>255</td>\n",
       "      <td>0</td>\n",
       "      <td>0</td>\n",
       "      <td>0</td>\n",
       "      <td>0</td>\n",
       "      <td>0</td>\n",
       "    </tr>\n",
       "    <tr>\n",
       "      <th>3</th>\n",
       "      <td>5</td>\n",
       "      <td>1</td>\n",
       "      <td>36</td>\n",
       "      <td>NaN</td>\n",
       "      <td>0</td>\n",
       "      <td>3</td>\n",
       "      <td>0</td>\n",
       "      <td>545</td>\n",
       "      <td>933026400</td>\n",
       "      <td>1999</td>\n",
       "      <td>...</td>\n",
       "      <td>SWE</td>\n",
       "      <td>\\n</td>\n",
       "      <td>0</td>\n",
       "      <td>NaN</td>\n",
       "      <td>255</td>\n",
       "      <td>0</td>\n",
       "      <td>0</td>\n",
       "      <td>0</td>\n",
       "      <td>0</td>\n",
       "      <td>0</td>\n",
       "    </tr>\n",
       "    <tr>\n",
       "      <th>4</th>\n",
       "      <td>6</td>\n",
       "      <td>1</td>\n",
       "      <td>36</td>\n",
       "      <td>NaN</td>\n",
       "      <td>0</td>\n",
       "      <td>3</td>\n",
       "      <td>0</td>\n",
       "      <td>545</td>\n",
       "      <td>933458400</td>\n",
       "      <td>1999</td>\n",
       "      <td>...</td>\n",
       "      <td>NaN</td>\n",
       "      <td>\\n</td>\n",
       "      <td>0</td>\n",
       "      <td>NaN</td>\n",
       "      <td>0</td>\n",
       "      <td>0</td>\n",
       "      <td>0</td>\n",
       "      <td>0</td>\n",
       "      <td>0</td>\n",
       "      <td>0</td>\n",
       "    </tr>\n",
       "    <tr>\n",
       "      <th>5</th>\n",
       "      <td>7</td>\n",
       "      <td>1</td>\n",
       "      <td>38</td>\n",
       "      <td>NaN</td>\n",
       "      <td>0</td>\n",
       "      <td>3</td>\n",
       "      <td>0</td>\n",
       "      <td>595</td>\n",
       "      <td>914022000</td>\n",
       "      <td>1998</td>\n",
       "      <td>...</td>\n",
       "      <td>THA</td>\n",
       "      <td>\\n</td>\n",
       "      <td>0</td>\n",
       "      <td>NaN</td>\n",
       "      <td>255</td>\n",
       "      <td>0</td>\n",
       "      <td>0</td>\n",
       "      <td>0</td>\n",
       "      <td>0</td>\n",
       "      <td>0</td>\n",
       "    </tr>\n",
       "    <tr>\n",
       "      <th>6</th>\n",
       "      <td>8</td>\n",
       "      <td>1</td>\n",
       "      <td>38</td>\n",
       "      <td>NaN</td>\n",
       "      <td>0</td>\n",
       "      <td>3</td>\n",
       "      <td>0</td>\n",
       "      <td>595</td>\n",
       "      <td>915404400</td>\n",
       "      <td>1999</td>\n",
       "      <td>...</td>\n",
       "      <td>NaN</td>\n",
       "      <td>Indonesien\\n</td>\n",
       "      <td>0</td>\n",
       "      <td>NaN</td>\n",
       "      <td>0</td>\n",
       "      <td>0</td>\n",
       "      <td>0</td>\n",
       "      <td>0</td>\n",
       "      <td>0</td>\n",
       "      <td>0</td>\n",
       "    </tr>\n",
       "    <tr>\n",
       "      <th>7</th>\n",
       "      <td>9</td>\n",
       "      <td>1</td>\n",
       "      <td>38</td>\n",
       "      <td>NaN</td>\n",
       "      <td>0</td>\n",
       "      <td>1</td>\n",
       "      <td>0</td>\n",
       "      <td>450</td>\n",
       "      <td>916268400</td>\n",
       "      <td>1999</td>\n",
       "      <td>...</td>\n",
       "      <td>THA</td>\n",
       "      <td>\\n 1-3 RP</td>\n",
       "      <td>0</td>\n",
       "      <td>NaN</td>\n",
       "      <td>255</td>\n",
       "      <td>0</td>\n",
       "      <td>0</td>\n",
       "      <td>0</td>\n",
       "      <td>0</td>\n",
       "      <td>0</td>\n",
       "    </tr>\n",
       "    <tr>\n",
       "      <th>8</th>\n",
       "      <td>10</td>\n",
       "      <td>1</td>\n",
       "      <td>38</td>\n",
       "      <td>NaN</td>\n",
       "      <td>0</td>\n",
       "      <td>3</td>\n",
       "      <td>0</td>\n",
       "      <td>595</td>\n",
       "      <td>916441200</td>\n",
       "      <td>1999</td>\n",
       "      <td>...</td>\n",
       "      <td>THA</td>\n",
       "      <td>Thailand\\n</td>\n",
       "      <td>0</td>\n",
       "      <td>NaN</td>\n",
       "      <td>0</td>\n",
       "      <td>0</td>\n",
       "      <td>0</td>\n",
       "      <td>0</td>\n",
       "      <td>0</td>\n",
       "      <td>0</td>\n",
       "    </tr>\n",
       "    <tr>\n",
       "      <th>9</th>\n",
       "      <td>11</td>\n",
       "      <td>1</td>\n",
       "      <td>38</td>\n",
       "      <td>NaN</td>\n",
       "      <td>0</td>\n",
       "      <td>3</td>\n",
       "      <td>0</td>\n",
       "      <td>595</td>\n",
       "      <td>917478000</td>\n",
       "      <td>1999</td>\n",
       "      <td>...</td>\n",
       "      <td>THA</td>\n",
       "      <td>\\n</td>\n",
       "      <td>0</td>\n",
       "      <td>NaN</td>\n",
       "      <td>255</td>\n",
       "      <td>0</td>\n",
       "      <td>0</td>\n",
       "      <td>0</td>\n",
       "      <td>0</td>\n",
       "      <td>0</td>\n",
       "    </tr>\n",
       "  </tbody>\n",
       "</table>\n",
       "<p>10 rows × 28 columns</p>\n",
       "</div>"
      ],
      "text/plain": [
       "   id  user_id  grade_id notes  raw_notes  method_id  climb_type  total_score  \\\n",
       "0   2        1        36   NaN          0          3           0          545   \n",
       "1   3        1        36   NaN          0          3           0          545   \n",
       "2   4        1        36   NaN          0          3           0          545   \n",
       "3   5        1        36   NaN          0          3           0          545   \n",
       "4   6        1        36   NaN          0          3           0          545   \n",
       "5   7        1        38   NaN          0          3           0          595   \n",
       "6   8        1        38   NaN          0          3           0          595   \n",
       "7   9        1        38   NaN          0          1           0          450   \n",
       "8  10        1        38   NaN          0          3           0          595   \n",
       "9  11        1        38   NaN          0          3           0          595   \n",
       "\n",
       "        date  year  ...  country       comment  rating description  yellow_id  \\\n",
       "0  918342000  1999  ...      THA    Thailand\\n       0         NaN        255   \n",
       "1  925509600  1999  ...      NaN            \\n       0         NaN          0   \n",
       "2  933026400  1999  ...      SWE            \\n       0         NaN        255   \n",
       "3  933026400  1999  ...      SWE            \\n       0         NaN        255   \n",
       "4  933458400  1999  ...      NaN            \\n       0         NaN          0   \n",
       "5  914022000  1998  ...      THA            \\n       0         NaN        255   \n",
       "6  915404400  1999  ...      NaN  Indonesien\\n       0         NaN          0   \n",
       "7  916268400  1999  ...      THA     \\n 1-3 RP       0         NaN        255   \n",
       "8  916441200  1999  ...      THA    Thailand\\n       0         NaN          0   \n",
       "9  917478000  1999  ...      THA            \\n       0         NaN        255   \n",
       "\n",
       "  climb_try  repeat exclude_from_ranking user_recommended chipped  \n",
       "0         0       0                    0                0       0  \n",
       "1         0       0                    0                0       0  \n",
       "2         0       0                    0                0       0  \n",
       "3         0       0                    0                0       0  \n",
       "4         0       0                    0                0       0  \n",
       "5         0       0                    0                0       0  \n",
       "6         0       0                    0                0       0  \n",
       "7         0       0                    0                0       0  \n",
       "8         0       0                    0                0       0  \n",
       "9         0       0                    0                0       0  \n",
       "\n",
       "[10 rows x 28 columns]"
      ]
     },
     "execution_count": 101,
     "metadata": {},
     "output_type": "execute_result"
    },
    {
     "name": "stdout",
     "output_type": "stream",
     "text": [
      "table dimensions: (4111877, 28)\n"
     ]
    }
   ],
   "source": [
    "ascents.head(10)\n",
    "print(\"table dimensions:\", ascents.shape)"
   ]
  },
  {
   "cell_type": "code",
   "execution_count": 102,
   "id": "84d462a6-a6d6-4e93-b728-21805fc1444a",
   "metadata": {},
   "outputs": [
    {
     "data": {
      "text/html": [
       "<div>\n",
       "<style scoped>\n",
       "    .dataframe tbody tr th:only-of-type {\n",
       "        vertical-align: middle;\n",
       "    }\n",
       "\n",
       "    .dataframe tbody tr th {\n",
       "        vertical-align: top;\n",
       "    }\n",
       "\n",
       "    .dataframe thead th {\n",
       "        text-align: right;\n",
       "    }\n",
       "</style>\n",
       "<table border=\"1\" class=\"dataframe\">\n",
       "  <thead>\n",
       "    <tr style=\"text-align: right;\">\n",
       "      <th></th>\n",
       "      <th>id</th>\n",
       "      <th>first_name</th>\n",
       "      <th>last_name</th>\n",
       "      <th>city</th>\n",
       "      <th>country</th>\n",
       "      <th>sex</th>\n",
       "      <th>height</th>\n",
       "      <th>weight</th>\n",
       "      <th>started</th>\n",
       "      <th>competitions</th>\n",
       "      <th>...</th>\n",
       "      <th>sponsor2</th>\n",
       "      <th>sponsor3</th>\n",
       "      <th>best_area</th>\n",
       "      <th>worst_area</th>\n",
       "      <th>guide_area</th>\n",
       "      <th>interests</th>\n",
       "      <th>birth</th>\n",
       "      <th>presentation</th>\n",
       "      <th>deactivated</th>\n",
       "      <th>anonymous</th>\n",
       "    </tr>\n",
       "  </thead>\n",
       "  <tbody>\n",
       "    <tr>\n",
       "      <th>0</th>\n",
       "      <td>1</td>\n",
       "      <td>first</td>\n",
       "      <td>last</td>\n",
       "      <td>Göteborg</td>\n",
       "      <td>SWE</td>\n",
       "      <td>0</td>\n",
       "      <td>177</td>\n",
       "      <td>73</td>\n",
       "      <td>1996</td>\n",
       "      <td>NaN</td>\n",
       "      <td>...</td>\n",
       "      <td>NaN</td>\n",
       "      <td>NaN</td>\n",
       "      <td>Railay beach, Krabi, Thailand</td>\n",
       "      <td>NaN</td>\n",
       "      <td>NaN</td>\n",
       "      <td>NaN</td>\n",
       "      <td>1976-03-10</td>\n",
       "      <td>NaN</td>\n",
       "      <td>0</td>\n",
       "      <td>0</td>\n",
       "    </tr>\n",
       "    <tr>\n",
       "      <th>1</th>\n",
       "      <td>2</td>\n",
       "      <td>first</td>\n",
       "      <td>last</td>\n",
       "      <td>stockholm</td>\n",
       "      <td>SWE</td>\n",
       "      <td>0</td>\n",
       "      <td>0</td>\n",
       "      <td>0</td>\n",
       "      <td>2000</td>\n",
       "      <td>NaN</td>\n",
       "      <td>...</td>\n",
       "      <td>NaN</td>\n",
       "      <td>NaN</td>\n",
       "      <td>NaN</td>\n",
       "      <td>NaN</td>\n",
       "      <td>NaN</td>\n",
       "      <td>NaN</td>\n",
       "      <td>NaN</td>\n",
       "      <td>NaN</td>\n",
       "      <td>0</td>\n",
       "      <td>0</td>\n",
       "    </tr>\n",
       "    <tr>\n",
       "      <th>2</th>\n",
       "      <td>3</td>\n",
       "      <td>first</td>\n",
       "      <td>last</td>\n",
       "      <td>Umeå</td>\n",
       "      <td>SWE</td>\n",
       "      <td>0</td>\n",
       "      <td>180</td>\n",
       "      <td>78</td>\n",
       "      <td>1995</td>\n",
       "      <td>NaN</td>\n",
       "      <td>...</td>\n",
       "      <td>NaN</td>\n",
       "      <td>NaN</td>\n",
       "      <td>Hell</td>\n",
       "      <td>Umeå</td>\n",
       "      <td>NaN</td>\n",
       "      <td>NaN</td>\n",
       "      <td>1973-09-09</td>\n",
       "      <td>NaN</td>\n",
       "      <td>0</td>\n",
       "      <td>0</td>\n",
       "    </tr>\n",
       "    <tr>\n",
       "      <th>3</th>\n",
       "      <td>4</td>\n",
       "      <td>first</td>\n",
       "      <td>last</td>\n",
       "      <td>Goteborg</td>\n",
       "      <td>SWE</td>\n",
       "      <td>1</td>\n",
       "      <td>165</td>\n",
       "      <td>58</td>\n",
       "      <td>2001</td>\n",
       "      <td>NaN</td>\n",
       "      <td>...</td>\n",
       "      <td>NaN</td>\n",
       "      <td>NaN</td>\n",
       "      <td>NaN</td>\n",
       "      <td>NaN</td>\n",
       "      <td>NaN</td>\n",
       "      <td>NaN</td>\n",
       "      <td>1984-07-26</td>\n",
       "      <td>NaN</td>\n",
       "      <td>0</td>\n",
       "      <td>0</td>\n",
       "    </tr>\n",
       "    <tr>\n",
       "      <th>4</th>\n",
       "      <td>5</td>\n",
       "      <td>first</td>\n",
       "      <td>last</td>\n",
       "      <td>North Attleboro</td>\n",
       "      <td>USA</td>\n",
       "      <td>0</td>\n",
       "      <td>0</td>\n",
       "      <td>0</td>\n",
       "      <td>1991</td>\n",
       "      <td>NaN</td>\n",
       "      <td>...</td>\n",
       "      <td>NaN</td>\n",
       "      <td>NaN</td>\n",
       "      <td>NaN</td>\n",
       "      <td>NaN</td>\n",
       "      <td>NaN</td>\n",
       "      <td>NaN</td>\n",
       "      <td>1969-05-07</td>\n",
       "      <td>NaN</td>\n",
       "      <td>0</td>\n",
       "      <td>0</td>\n",
       "    </tr>\n",
       "    <tr>\n",
       "      <th>5</th>\n",
       "      <td>6</td>\n",
       "      <td>first</td>\n",
       "      <td>last</td>\n",
       "      <td>Sydney</td>\n",
       "      <td>AUS</td>\n",
       "      <td>0</td>\n",
       "      <td>185</td>\n",
       "      <td>73</td>\n",
       "      <td>1992</td>\n",
       "      <td>last</td>\n",
       "      <td>...</td>\n",
       "      <td>NaN</td>\n",
       "      <td>NaN</td>\n",
       "      <td>Sydney</td>\n",
       "      <td>NaN</td>\n",
       "      <td>NaN</td>\n",
       "      <td>NaN</td>\n",
       "      <td>1970-12-02</td>\n",
       "      <td>NaN</td>\n",
       "      <td>0</td>\n",
       "      <td>0</td>\n",
       "    </tr>\n",
       "    <tr>\n",
       "      <th>6</th>\n",
       "      <td>10</td>\n",
       "      <td>first</td>\n",
       "      <td>last</td>\n",
       "      <td>Göteborg</td>\n",
       "      <td>SWE</td>\n",
       "      <td>0</td>\n",
       "      <td>167</td>\n",
       "      <td>63</td>\n",
       "      <td>1992</td>\n",
       "      <td>NaN</td>\n",
       "      <td>...</td>\n",
       "      <td>NaN</td>\n",
       "      <td>NaN</td>\n",
       "      <td>NaN</td>\n",
       "      <td>NaN</td>\n",
       "      <td>NaN</td>\n",
       "      <td>NaN</td>\n",
       "      <td>1965-06-22</td>\n",
       "      <td>NaN</td>\n",
       "      <td>0</td>\n",
       "      <td>0</td>\n",
       "    </tr>\n",
       "    <tr>\n",
       "      <th>7</th>\n",
       "      <td>11</td>\n",
       "      <td>first</td>\n",
       "      <td>last</td>\n",
       "      <td>Arkelstorp</td>\n",
       "      <td>SWE</td>\n",
       "      <td>0</td>\n",
       "      <td>175</td>\n",
       "      <td>73</td>\n",
       "      <td>1998</td>\n",
       "      <td>1:a</td>\n",
       "      <td>...</td>\n",
       "      <td>NaN</td>\n",
       "      <td>NaN</td>\n",
       "      <td>Kjugekull</td>\n",
       "      <td>NaN</td>\n",
       "      <td>Kjugekull</td>\n",
       "      <td>Play go, read books, listen to jazz and eating...</td>\n",
       "      <td>1980-01-09</td>\n",
       "      <td>NaN</td>\n",
       "      <td>0</td>\n",
       "      <td>0</td>\n",
       "    </tr>\n",
       "    <tr>\n",
       "      <th>8</th>\n",
       "      <td>12</td>\n",
       "      <td>first</td>\n",
       "      <td>last</td>\n",
       "      <td>stockholm</td>\n",
       "      <td>SWE</td>\n",
       "      <td>0</td>\n",
       "      <td>0</td>\n",
       "      <td>0</td>\n",
       "      <td>2000</td>\n",
       "      <td>NaN</td>\n",
       "      <td>...</td>\n",
       "      <td>NaN</td>\n",
       "      <td>NaN</td>\n",
       "      <td>NaN</td>\n",
       "      <td>NaN</td>\n",
       "      <td>NaN</td>\n",
       "      <td>NaN</td>\n",
       "      <td>NaN</td>\n",
       "      <td>NaN</td>\n",
       "      <td>0</td>\n",
       "      <td>0</td>\n",
       "    </tr>\n",
       "    <tr>\n",
       "      <th>9</th>\n",
       "      <td>13</td>\n",
       "      <td>first</td>\n",
       "      <td>last</td>\n",
       "      <td>norrkoping</td>\n",
       "      <td>SWE</td>\n",
       "      <td>0</td>\n",
       "      <td>0</td>\n",
       "      <td>0</td>\n",
       "      <td>2000</td>\n",
       "      <td>NaN</td>\n",
       "      <td>...</td>\n",
       "      <td>NaN</td>\n",
       "      <td>NaN</td>\n",
       "      <td>NaN</td>\n",
       "      <td>NaN</td>\n",
       "      <td>NaN</td>\n",
       "      <td>NaN</td>\n",
       "      <td>NaN</td>\n",
       "      <td>NaN</td>\n",
       "      <td>0</td>\n",
       "      <td>0</td>\n",
       "    </tr>\n",
       "  </tbody>\n",
       "</table>\n",
       "<p>10 rows × 22 columns</p>\n",
       "</div>"
      ],
      "text/plain": [
       "   id first_name last_name             city country  sex  height  weight  \\\n",
       "0   1      first      last         Göteborg     SWE    0     177      73   \n",
       "1   2      first      last        stockholm     SWE    0       0       0   \n",
       "2   3      first      last             Umeå     SWE    0     180      78   \n",
       "3   4      first      last         Goteborg     SWE    1     165      58   \n",
       "4   5      first      last  North Attleboro     USA    0       0       0   \n",
       "5   6      first      last           Sydney     AUS    0     185      73   \n",
       "6  10      first      last         Göteborg     SWE    0     167      63   \n",
       "7  11      first      last       Arkelstorp     SWE    0     175      73   \n",
       "8  12      first      last        stockholm     SWE    0       0       0   \n",
       "9  13      first      last       norrkoping     SWE    0       0       0   \n",
       "\n",
       "   started competitions  ... sponsor2 sponsor3                      best_area  \\\n",
       "0     1996          NaN  ...      NaN      NaN  Railay beach, Krabi, Thailand   \n",
       "1     2000          NaN  ...      NaN      NaN                            NaN   \n",
       "2     1995          NaN  ...      NaN      NaN                           Hell   \n",
       "3     2001          NaN  ...      NaN      NaN                            NaN   \n",
       "4     1991          NaN  ...      NaN      NaN                            NaN   \n",
       "5     1992         last  ...      NaN      NaN                         Sydney   \n",
       "6     1992          NaN  ...      NaN      NaN                            NaN   \n",
       "7     1998          1:a  ...      NaN      NaN                      Kjugekull   \n",
       "8     2000          NaN  ...      NaN      NaN                            NaN   \n",
       "9     2000          NaN  ...      NaN      NaN                            NaN   \n",
       "\n",
       "  worst_area guide_area                                          interests  \\\n",
       "0        NaN        NaN                                                NaN   \n",
       "1        NaN        NaN                                                NaN   \n",
       "2       Umeå        NaN                                                NaN   \n",
       "3        NaN        NaN                                                NaN   \n",
       "4        NaN        NaN                                                NaN   \n",
       "5        NaN        NaN                                                NaN   \n",
       "6        NaN        NaN                                                NaN   \n",
       "7        NaN  Kjugekull  Play go, read books, listen to jazz and eating...   \n",
       "8        NaN        NaN                                                NaN   \n",
       "9        NaN        NaN                                                NaN   \n",
       "\n",
       "        birth presentation deactivated anonymous  \n",
       "0  1976-03-10          NaN           0         0  \n",
       "1         NaN          NaN           0         0  \n",
       "2  1973-09-09          NaN           0         0  \n",
       "3  1984-07-26          NaN           0         0  \n",
       "4  1969-05-07          NaN           0         0  \n",
       "5  1970-12-02          NaN           0         0  \n",
       "6  1965-06-22          NaN           0         0  \n",
       "7  1980-01-09          NaN           0         0  \n",
       "8         NaN          NaN           0         0  \n",
       "9         NaN          NaN           0         0  \n",
       "\n",
       "[10 rows x 22 columns]"
      ]
     },
     "execution_count": 102,
     "metadata": {},
     "output_type": "execute_result"
    },
    {
     "name": "stdout",
     "output_type": "stream",
     "text": [
      "table dimensions: (62593, 22)\n"
     ]
    }
   ],
   "source": [
    "user.head(10)\n",
    "print(\"table dimensions:\", user.shape)"
   ]
  },
  {
   "cell_type": "code",
   "execution_count": 103,
   "id": "cd34c5fc-e61b-4e5f-8472-2d05d88eb085",
   "metadata": {},
   "outputs": [
    {
     "data": {
      "text/html": [
       "<div>\n",
       "<style scoped>\n",
       "    .dataframe tbody tr th:only-of-type {\n",
       "        vertical-align: middle;\n",
       "    }\n",
       "\n",
       "    .dataframe tbody tr th {\n",
       "        vertical-align: top;\n",
       "    }\n",
       "\n",
       "    .dataframe thead th {\n",
       "        text-align: right;\n",
       "    }\n",
       "</style>\n",
       "<table border=\"1\" class=\"dataframe\">\n",
       "  <thead>\n",
       "    <tr style=\"text-align: right;\">\n",
       "      <th></th>\n",
       "      <th>id</th>\n",
       "      <th>score</th>\n",
       "      <th>fra_routes</th>\n",
       "      <th>fra_routes_input</th>\n",
       "      <th>fra_routes_selector</th>\n",
       "      <th>fra_boulders</th>\n",
       "      <th>fra_boulders_input</th>\n",
       "      <th>fra_boulders_selector</th>\n",
       "      <th>usa_routes</th>\n",
       "      <th>usa_routes_input</th>\n",
       "      <th>usa_routes_selector</th>\n",
       "      <th>usa_boulders</th>\n",
       "      <th>usa_boulders_input</th>\n",
       "      <th>usa_boulders_selector</th>\n",
       "    </tr>\n",
       "  </thead>\n",
       "  <tbody>\n",
       "    <tr>\n",
       "      <th>0</th>\n",
       "      <td>1</td>\n",
       "      <td>0</td>\n",
       "      <td>-</td>\n",
       "      <td>1</td>\n",
       "      <td>1</td>\n",
       "      <td>-</td>\n",
       "      <td>1</td>\n",
       "      <td>1</td>\n",
       "      <td>3/4</td>\n",
       "      <td>1</td>\n",
       "      <td>1</td>\n",
       "      <td>VB</td>\n",
       "      <td>1</td>\n",
       "      <td>1</td>\n",
       "    </tr>\n",
       "    <tr>\n",
       "      <th>1</th>\n",
       "      <td>2</td>\n",
       "      <td>0</td>\n",
       "      <td>1</td>\n",
       "      <td>0</td>\n",
       "      <td>0</td>\n",
       "      <td>1</td>\n",
       "      <td>0</td>\n",
       "      <td>0</td>\n",
       "      <td>NaN</td>\n",
       "      <td>0</td>\n",
       "      <td>0</td>\n",
       "      <td>NaN</td>\n",
       "      <td>0</td>\n",
       "      <td>0</td>\n",
       "    </tr>\n",
       "    <tr>\n",
       "      <th>2</th>\n",
       "      <td>3</td>\n",
       "      <td>0</td>\n",
       "      <td>1a</td>\n",
       "      <td>0</td>\n",
       "      <td>0</td>\n",
       "      <td>1A</td>\n",
       "      <td>0</td>\n",
       "      <td>0</td>\n",
       "      <td>NaN</td>\n",
       "      <td>0</td>\n",
       "      <td>0</td>\n",
       "      <td>NaN</td>\n",
       "      <td>0</td>\n",
       "      <td>0</td>\n",
       "    </tr>\n",
       "    <tr>\n",
       "      <th>3</th>\n",
       "      <td>4</td>\n",
       "      <td>0</td>\n",
       "      <td>1b</td>\n",
       "      <td>0</td>\n",
       "      <td>0</td>\n",
       "      <td>1B</td>\n",
       "      <td>0</td>\n",
       "      <td>0</td>\n",
       "      <td>NaN</td>\n",
       "      <td>0</td>\n",
       "      <td>0</td>\n",
       "      <td>NaN</td>\n",
       "      <td>0</td>\n",
       "      <td>0</td>\n",
       "    </tr>\n",
       "    <tr>\n",
       "      <th>4</th>\n",
       "      <td>5</td>\n",
       "      <td>0</td>\n",
       "      <td>1c</td>\n",
       "      <td>0</td>\n",
       "      <td>0</td>\n",
       "      <td>1C</td>\n",
       "      <td>0</td>\n",
       "      <td>0</td>\n",
       "      <td>NaN</td>\n",
       "      <td>0</td>\n",
       "      <td>0</td>\n",
       "      <td>NaN</td>\n",
       "      <td>0</td>\n",
       "      <td>0</td>\n",
       "    </tr>\n",
       "    <tr>\n",
       "      <th>5</th>\n",
       "      <td>6</td>\n",
       "      <td>0</td>\n",
       "      <td>1+</td>\n",
       "      <td>0</td>\n",
       "      <td>0</td>\n",
       "      <td>1+</td>\n",
       "      <td>0</td>\n",
       "      <td>0</td>\n",
       "      <td>NaN</td>\n",
       "      <td>0</td>\n",
       "      <td>0</td>\n",
       "      <td>NaN</td>\n",
       "      <td>0</td>\n",
       "      <td>0</td>\n",
       "    </tr>\n",
       "    <tr>\n",
       "      <th>6</th>\n",
       "      <td>7</td>\n",
       "      <td>80</td>\n",
       "      <td>2</td>\n",
       "      <td>1</td>\n",
       "      <td>0</td>\n",
       "      <td>2</td>\n",
       "      <td>1</td>\n",
       "      <td>0</td>\n",
       "      <td>5.1</td>\n",
       "      <td>1</td>\n",
       "      <td>0</td>\n",
       "      <td>VB</td>\n",
       "      <td>0</td>\n",
       "      <td>0</td>\n",
       "    </tr>\n",
       "    <tr>\n",
       "      <th>7</th>\n",
       "      <td>8</td>\n",
       "      <td>0</td>\n",
       "      <td>2a</td>\n",
       "      <td>0</td>\n",
       "      <td>0</td>\n",
       "      <td>2A</td>\n",
       "      <td>0</td>\n",
       "      <td>0</td>\n",
       "      <td>NaN</td>\n",
       "      <td>0</td>\n",
       "      <td>0</td>\n",
       "      <td>NaN</td>\n",
       "      <td>0</td>\n",
       "      <td>0</td>\n",
       "    </tr>\n",
       "    <tr>\n",
       "      <th>8</th>\n",
       "      <td>9</td>\n",
       "      <td>0</td>\n",
       "      <td>2b</td>\n",
       "      <td>0</td>\n",
       "      <td>0</td>\n",
       "      <td>2B</td>\n",
       "      <td>0</td>\n",
       "      <td>0</td>\n",
       "      <td>NaN</td>\n",
       "      <td>0</td>\n",
       "      <td>0</td>\n",
       "      <td>NaN</td>\n",
       "      <td>0</td>\n",
       "      <td>0</td>\n",
       "    </tr>\n",
       "    <tr>\n",
       "      <th>9</th>\n",
       "      <td>10</td>\n",
       "      <td>0</td>\n",
       "      <td>2c</td>\n",
       "      <td>0</td>\n",
       "      <td>0</td>\n",
       "      <td>2C</td>\n",
       "      <td>0</td>\n",
       "      <td>0</td>\n",
       "      <td>NaN</td>\n",
       "      <td>0</td>\n",
       "      <td>0</td>\n",
       "      <td>NaN</td>\n",
       "      <td>0</td>\n",
       "      <td>0</td>\n",
       "    </tr>\n",
       "  </tbody>\n",
       "</table>\n",
       "</div>"
      ],
      "text/plain": [
       "   id  score fra_routes  fra_routes_input  fra_routes_selector fra_boulders  \\\n",
       "0   1      0          -                 1                    1            -   \n",
       "1   2      0          1                 0                    0            1   \n",
       "2   3      0         1a                 0                    0           1A   \n",
       "3   4      0         1b                 0                    0           1B   \n",
       "4   5      0         1c                 0                    0           1C   \n",
       "5   6      0         1+                 0                    0           1+   \n",
       "6   7     80          2                 1                    0            2   \n",
       "7   8      0         2a                 0                    0           2A   \n",
       "8   9      0         2b                 0                    0           2B   \n",
       "9  10      0         2c                 0                    0           2C   \n",
       "\n",
       "   fra_boulders_input  fra_boulders_selector usa_routes  usa_routes_input  \\\n",
       "0                   1                      1        3/4                 1   \n",
       "1                   0                      0        NaN                 0   \n",
       "2                   0                      0        NaN                 0   \n",
       "3                   0                      0        NaN                 0   \n",
       "4                   0                      0        NaN                 0   \n",
       "5                   0                      0        NaN                 0   \n",
       "6                   1                      0        5.1                 1   \n",
       "7                   0                      0        NaN                 0   \n",
       "8                   0                      0        NaN                 0   \n",
       "9                   0                      0        NaN                 0   \n",
       "\n",
       "   usa_routes_selector usa_boulders  usa_boulders_input  usa_boulders_selector  \n",
       "0                    1           VB                   1                      1  \n",
       "1                    0          NaN                   0                      0  \n",
       "2                    0          NaN                   0                      0  \n",
       "3                    0          NaN                   0                      0  \n",
       "4                    0          NaN                   0                      0  \n",
       "5                    0          NaN                   0                      0  \n",
       "6                    0           VB                   0                      0  \n",
       "7                    0          NaN                   0                      0  \n",
       "8                    0          NaN                   0                      0  \n",
       "9                    0          NaN                   0                      0  "
      ]
     },
     "execution_count": 103,
     "metadata": {},
     "output_type": "execute_result"
    },
    {
     "name": "stdout",
     "output_type": "stream",
     "text": [
      "table dimensions: (83, 14)\n"
     ]
    }
   ],
   "source": [
    "grades.head(10)\n",
    "print(\"table dimensions:\", grades.shape)"
   ]
  },
  {
   "cell_type": "code",
   "execution_count": 104,
   "id": "0acca922-93fa-4bb9-8b75-60aaffa4dd75",
   "metadata": {},
   "outputs": [
    {
     "data": {
      "text/html": [
       "<div>\n",
       "<style scoped>\n",
       "    .dataframe tbody tr th:only-of-type {\n",
       "        vertical-align: middle;\n",
       "    }\n",
       "\n",
       "    .dataframe tbody tr th {\n",
       "        vertical-align: top;\n",
       "    }\n",
       "\n",
       "    .dataframe thead th {\n",
       "        text-align: right;\n",
       "    }\n",
       "</style>\n",
       "<table border=\"1\" class=\"dataframe\">\n",
       "  <thead>\n",
       "    <tr style=\"text-align: right;\">\n",
       "      <th></th>\n",
       "      <th>id</th>\n",
       "      <th>score</th>\n",
       "      <th>shorthand</th>\n",
       "      <th>name</th>\n",
       "    </tr>\n",
       "  </thead>\n",
       "  <tbody>\n",
       "    <tr>\n",
       "      <th>0</th>\n",
       "      <td>1</td>\n",
       "      <td>0</td>\n",
       "      <td>redpoint</td>\n",
       "      <td>Redpoint</td>\n",
       "    </tr>\n",
       "    <tr>\n",
       "      <th>1</th>\n",
       "      <td>2</td>\n",
       "      <td>53</td>\n",
       "      <td>flash</td>\n",
       "      <td>Flash</td>\n",
       "    </tr>\n",
       "    <tr>\n",
       "      <th>2</th>\n",
       "      <td>3</td>\n",
       "      <td>145</td>\n",
       "      <td>onsight</td>\n",
       "      <td>Onsight</td>\n",
       "    </tr>\n",
       "    <tr>\n",
       "      <th>3</th>\n",
       "      <td>4</td>\n",
       "      <td>-52</td>\n",
       "      <td>toprope</td>\n",
       "      <td>Toprope</td>\n",
       "    </tr>\n",
       "    <tr>\n",
       "      <th>4</th>\n",
       "      <td>5</td>\n",
       "      <td>95</td>\n",
       "      <td>onsight</td>\n",
       "      <td>Onsight</td>\n",
       "    </tr>\n",
       "  </tbody>\n",
       "</table>\n",
       "</div>"
      ],
      "text/plain": [
       "   id  score shorthand      name\n",
       "0   1      0  redpoint  Redpoint\n",
       "1   2     53     flash     Flash\n",
       "2   3    145   onsight   Onsight\n",
       "3   4    -52   toprope   Toprope\n",
       "4   5     95   onsight   Onsight"
      ]
     },
     "execution_count": 104,
     "metadata": {},
     "output_type": "execute_result"
    },
    {
     "name": "stdout",
     "output_type": "stream",
     "text": [
      "table dimensions: (5, 4)\n"
     ]
    }
   ],
   "source": [
    "method.head(10)\n",
    "print(\"table dimensions:\", method.shape)"
   ]
  },
  {
   "cell_type": "markdown",
   "id": "8f74dc4a-c07c-460c-b00f-21ca30a80e76",
   "metadata": {},
   "source": [
    "# Data cleaning and feature engineering"
   ]
  },
  {
   "cell_type": "markdown",
   "id": "7b1de83f-2aa1-4007-a313-08c529e82c97",
   "metadata": {},
   "source": [
    "This data was directly entered by users, so there are likely to be typos and errors in the data. I will have to clean the data first. First I will filter climbers to those have those that only have age data "
   ]
  },
  {
   "cell_type": "code",
   "execution_count": 30,
   "id": "63353adc-e414-491b-b929-16ffb1879e5e",
   "metadata": {},
   "outputs": [
    {
     "data": {
      "text/plain": [
       "20018    1000-01-01\n",
       "59280    1900-01-01\n",
       "62234    1900-01-01\n",
       "58524    1900-01-01\n",
       "58639    1900-01-01\n",
       "            ...    \n",
       "52916    2015-10-26\n",
       "57571    2015-11-22\n",
       "55904    2016-03-04\n",
       "60460    2016-09-11\n",
       "61483    2017-08-20\n",
       "Name: birth, Length: 27856, dtype: object"
      ]
     },
     "execution_count": 30,
     "metadata": {},
     "output_type": "execute_result"
    }
   ],
   "source": [
    "user_clean = user[user['birth'].notna()]\n",
    "user_clean['birth'].sort_values()"
   ]
  },
  {
   "cell_type": "markdown",
   "id": "097d95f3-dfd0-48ca-a552-0c5754781735",
   "metadata": {},
   "source": [
    "We have users who are over 100 years old (with one climber over 1000 years old!). These are most likley a typos so I\n",
    "will filter to users to those born after 1940."
   ]
  },
  {
   "cell_type": "code",
   "execution_count": 31,
   "id": "770a9d17-9703-47cd-82ad-8f6a597970f9",
   "metadata": {},
   "outputs": [
    {
     "data": {
      "text/plain": [
       "40932    1940-03-10\n",
       "12130    1940-12-25\n",
       "3580     1941-04-28\n",
       "1496     1941-05-26\n",
       "3786     1941-08-19\n",
       "            ...    \n",
       "52916    2015-10-26\n",
       "57571    2015-11-22\n",
       "55904    2016-03-04\n",
       "60460    2016-09-11\n",
       "61483    2017-08-20\n",
       "Name: birth, Length: 27725, dtype: object"
      ]
     },
     "execution_count": 31,
     "metadata": {},
     "output_type": "execute_result"
    }
   ],
   "source": [
    "user_clean = user_clean[user_clean['birth'] > '1940-01-01']\n",
    "user_clean['birth'].sort_values()"
   ]
  },
  {
   "cell_type": "markdown",
   "id": "0f3047e6-fbf8-4512-a7f7-780e00b406f1",
   "metadata": {},
   "source": [
    "How many unique users are there?"
   ]
  },
  {
   "cell_type": "code",
   "execution_count": 105,
   "id": "abad547b-173e-4819-8ae7-ceabb7d387e7",
   "metadata": {},
   "outputs": [
    {
     "data": {
      "text/plain": [
       "21018"
      ]
     },
     "execution_count": 105,
     "metadata": {},
     "output_type": "execute_result"
    }
   ],
   "source": [
    "user_clean['id'].nunique()"
   ]
  },
  {
   "cell_type": "markdown",
   "id": "6c9a3416-3132-4cf4-8633-1505c1e93d7d",
   "metadata": {},
   "source": [
    "How is the dataset distributed by sex?"
   ]
  },
  {
   "cell_type": "code",
   "execution_count": 21,
   "id": "fb10d4a2-1bdf-41de-aa8f-80b1718206ff",
   "metadata": {},
   "outputs": [
    {
     "data": {
      "text/plain": [
       "sex\n",
       "0      23757\n",
       "1       3967\n",
       "255        1\n",
       "dtype: int64"
      ]
     },
     "execution_count": 21,
     "metadata": {},
     "output_type": "execute_result"
    }
   ],
   "source": [
    "user_clean.groupby('sex').size()"
   ]
  },
  {
   "cell_type": "markdown",
   "id": "815a1b37-ab32-4cc2-a3bf-4fbb13906f00",
   "metadata": {},
   "source": [
    "There are many more males than females in this dataset. \n",
    "This will likely bias any results"
   ]
  },
  {
   "cell_type": "markdown",
   "id": "86fb0840-8c54-4472-a9f9-32e8ea6a3e16",
   "metadata": {},
   "source": [
    "Let's look at the weight data and see if it requires any cleaning"
   ]
  },
  {
   "cell_type": "code",
   "execution_count": 23,
   "id": "b5863bb4-8129-4cc6-959a-6c05aaae8056",
   "metadata": {},
   "outputs": [
    {
     "data": {
      "text/plain": [
       "(array([4418.,    0.,    0.,    0., 1184., 3440., 8872., 7317., 1996.,\n",
       "         498.]),\n",
       " array([  0.,  10.,  20.,  30.,  40.,  50.,  60.,  70.,  80.,  90., 100.]),\n",
       " <BarContainer object of 10 artists>)"
      ]
     },
     "execution_count": 23,
     "metadata": {},
     "output_type": "execute_result"
    },
    {
     "data": {
      "image/png": "[encoded data removed]",
      "text/plain": [
       "<Figure size 640x480 with 1 Axes>"
      ]
     },
     "metadata": {},
     "output_type": "display_data"
    }
   ],
   "source": [
    "plt.hist(user_clean['weight'])"
   ]
  },
  {
   "cell_type": "markdown",
   "id": "483ed3d3-295a-4da5-929e-a8460947ea86",
   "metadata": {},
   "source": [
    "Weight is unlikley to be less than 20 kg, so I will remove these points.\n"
   ]
  },
  {
   "cell_type": "code",
   "execution_count": 25,
   "id": "8759a4cf-bebb-427d-b303-554a7ef28b6a",
   "metadata": {},
   "outputs": [
    {
     "data": {
      "text/plain": [
       "(array([ 499.,  685., 1368., 6118., 4826., 4684., 2633., 1464.,  780.,\n",
       "         250.]),\n",
       " array([ 40.,  46.,  52.,  58.,  64.,  70.,  76.,  82.,  88.,  94., 100.]),\n",
       " <BarContainer object of 10 artists>)"
      ]
     },
     "execution_count": 25,
     "metadata": {},
     "output_type": "execute_result"
    },
    {
     "data": {
      "image/png": "[encoded data removed]",
      "text/plain": [
       "<Figure size 640x480 with 1 Axes>"
      ]
     },
     "metadata": {},
     "output_type": "display_data"
    }
   ],
   "source": [
    "user_clean = user_clean[user_clean['weight'] > 20]\n",
    "plt.hist(user_clean['weight'])"
   ]
  },
  {
   "cell_type": "markdown",
   "id": "45968769-6584-4145-a84e-5d70bc5f9b91",
   "metadata": {},
   "source": [
    "That looks better."
   ]
  },
  {
   "cell_type": "markdown",
   "id": "eb33ffa9-495a-4f7d-b1a5-65b5e77a19e8",
   "metadata": {},
   "source": [
    "Now let's check the height data."
   ]
  },
  {
   "cell_type": "code",
   "execution_count": 27,
   "id": "c96a42a3-cb37-432f-be0f-7a05979bc18a",
   "metadata": {},
   "outputs": [
    {
     "data": {
      "text/plain": [
       "(array([1.9780e+03, 6.0000e+00, 1.1100e+02, 2.4000e+01, 3.4000e+01,\n",
       "        2.8100e+02, 1.2032e+04, 8.7600e+03, 1.7000e+01, 6.4000e+01]),\n",
       " array([  0. ,  25.5,  51. ,  76.5, 102. , 127.5, 153. , 178.5, 204. ,\n",
       "        229.5, 255. ]),\n",
       " <BarContainer object of 10 artists>)"
      ]
     },
     "execution_count": 27,
     "metadata": {},
     "output_type": "execute_result"
    },
    {
     "data": {
      "text/plain": [
       "count    23307.000000\n",
       "mean       160.821127\n",
       "std         50.498805\n",
       "min          0.000000\n",
       "25%        170.000000\n",
       "50%        176.000000\n",
       "75%        181.000000\n",
       "max        255.000000\n",
       "Name: height, dtype: float64"
      ]
     },
     "execution_count": 27,
     "metadata": {},
     "output_type": "execute_result"
    },
    {
     "data": {
      "image/png": "[encoded data removed]",
      "text/plain": [
       "<Figure size 640x480 with 1 Axes>"
      ]
     },
     "metadata": {},
     "output_type": "display_data"
    }
   ],
   "source": [
    "plt.hist(user_clean['height'])\n",
    "user_clean['height'].describe()"
   ]
  },
  {
   "cell_type": "markdown",
   "id": "20a6199f-611b-4be8-bd3f-fa44c34360fd",
   "metadata": {},
   "source": [
    "To remove the potential for any data entry errors I will restrict height \n",
    "to be between 4-7.5 feet, and also convert to centimeters for BMI calculation."
   ]
  },
  {
   "cell_type": "code",
   "execution_count": 32,
   "id": "5a5e0304-7819-4326-8bad-47ad503206c6",
   "metadata": {},
   "outputs": [
    {
     "data": {
      "text/plain": [
       "(array([4.0000e+01, 7.4000e+01, 2.2300e+02, 1.2900e+03, 5.3920e+03,\n",
       "        1.1897e+04, 3.7100e+03, 3.0300e+02, 1.3000e+01, 5.0000e+00]),\n",
       " array([1.21 , 1.314, 1.418, 1.522, 1.626, 1.73 , 1.834, 1.938, 2.042,\n",
       "        2.146, 2.25 ]),\n",
       " <BarContainer object of 10 artists>)"
      ]
     },
     "execution_count": 32,
     "metadata": {},
     "output_type": "execute_result"
    },
    {
     "data": {
      "text/plain": [
       "count    22947.000000\n",
       "mean         1.759819\n",
       "std          0.090291\n",
       "min          1.210000\n",
       "25%          1.710000\n",
       "50%          1.770000\n",
       "75%          1.820000\n",
       "max          2.250000\n",
       "Name: height, dtype: float64"
      ]
     },
     "execution_count": 32,
     "metadata": {},
     "output_type": "execute_result"
    },
    {
     "data": {
      "image/png": "[encoded data removed]",
      "text/plain": [
       "<Figure size 640x480 with 1 Axes>"
      ]
     },
     "metadata": {},
     "output_type": "display_data"
    }
   ],
   "source": [
    "user_clean = user_clean[user_clean['height'] > 120]\n",
    "user_clean = user_clean[user_clean['height'] < 228]\n",
    "user_clean['height'] = user_clean['height']/100\n",
    "plt.hist(user_clean['height'])\n",
    "user_clean['height'].describe()"
   ]
  },
  {
   "cell_type": "markdown",
   "id": "8da3d8bf-c858-4226-b93e-b629cd72fefd",
   "metadata": {},
   "source": [
    "Instead of separately using height and weight as potentially highly correlated features in my model, I will calculate BMI for each user."
   ]
  },
  {
   "cell_type": "code",
   "execution_count": 34,
   "id": "9dc24b3a-2c10-4082-b597-22ce2670558a",
   "metadata": {},
   "outputs": [
    {
     "data": {
      "text/plain": [
       "count    22947.000000\n",
       "mean        20.173933\n",
       "std          6.454024\n",
       "min          0.000000\n",
       "25%         19.895929\n",
       "50%         21.561909\n",
       "75%         23.040020\n",
       "max         66.935319\n",
       "Name: bmi, dtype: float64"
      ]
     },
     "execution_count": 34,
     "metadata": {},
     "output_type": "execute_result"
    },
    {
     "data": {
      "text/plain": [
       "(array([1.8440e+03, 4.3000e+01, 4.2460e+03, 1.6193e+04, 5.6100e+02,\n",
       "        4.0000e+01, 9.0000e+00, 4.0000e+00, 3.0000e+00, 4.0000e+00]),\n",
       " array([ 0.        ,  6.69353186, 13.38706373, 20.08059559, 26.77412745,\n",
       "        33.46765931, 40.16119118, 46.85472304, 53.5482549 , 60.24178676,\n",
       "        66.93531863]),\n",
       " <BarContainer object of 10 artists>)"
      ]
     },
     "execution_count": 34,
     "metadata": {},
     "output_type": "execute_result"
    },
    {
     "data": {
      "image/png": "[encoded data removed]",
      "text/plain": [
       "<Figure size 640x480 with 1 Axes>"
      ]
     },
     "metadata": {},
     "output_type": "display_data"
    }
   ],
   "source": [
    "user_clean['bmi'] = user_clean['weight']/(user_clean['height']**2)\n",
    "user_clean['bmi'].describe()\n",
    "plt.hist(user_clean['bmi'])"
   ]
  },
  {
   "cell_type": "markdown",
   "id": "6befdb51-22c6-45c9-a870-70b37cf04553",
   "metadata": {},
   "source": [
    "Some of these BMI values are phylsioglically extreme and more likely to be typos instead of real values. I will filter BMIs to be between 15-40\n"
   ]
  },
  {
   "cell_type": "code",
   "execution_count": 36,
   "id": "22bd9280-c30d-4b58-a6db-c87bebde1a21",
   "metadata": {},
   "outputs": [
    {
     "data": {
      "text/plain": [
       "count    21018.000000\n",
       "mean        21.937919\n",
       "std          2.356562\n",
       "min         15.149602\n",
       "25%         20.504934\n",
       "50%         21.799308\n",
       "75%         23.291230\n",
       "max         39.728310\n",
       "Name: bmi, dtype: float64"
      ]
     },
     "execution_count": 36,
     "metadata": {},
     "output_type": "execute_result"
    },
    {
     "data": {
      "text/plain": [
       "(array([ 405., 3535., 9132., 6225., 1315.,  252.,   96.,   34.,   12.,\n",
       "          12.]),\n",
       " array([15.14960232, 17.60747305, 20.06534378, 22.52321451, 24.98108524,\n",
       "        27.43895597, 29.8968267 , 32.35469743, 34.81256816, 37.27043889,\n",
       "        39.72830962]),\n",
       " <BarContainer object of 10 artists>)"
      ]
     },
     "execution_count": 36,
     "metadata": {},
     "output_type": "execute_result"
    },
    {
     "data": {
      "image/png": "[encoded data removed]",
      "text/plain": [
       "<Figure size 640x480 with 1 Axes>"
      ]
     },
     "metadata": {},
     "output_type": "display_data"
    }
   ],
   "source": [
    "user_clean = user_clean[user_clean['bmi'] > 15]\n",
    "user_clean = user_clean[user_clean['bmi'] < 40]\n",
    "user_clean['bmi'].describe()\n",
    "plt.hist(user_clean['bmi'])"
   ]
  },
  {
   "cell_type": "markdown",
   "id": "d6c6bc0b-45e5-42ce-a41a-c519f179e236",
   "metadata": {},
   "source": [
    "Let's look at the type of climbs the users are recording. "
   ]
  },
  {
   "cell_type": "code",
   "execution_count": 37,
   "id": "8587ea89-6fcc-4e2a-9951-d43cc0212394",
   "metadata": {},
   "outputs": [
    {
     "data": {
      "text/plain": [
       "climb_type\n",
       "0    2875675\n",
       "1    1236202\n",
       "dtype: int64"
      ]
     },
     "execution_count": 37,
     "metadata": {},
     "output_type": "execute_result"
    }
   ],
   "source": [
    "ascents.groupby(['climb_type']).size()"
   ]
  },
  {
   "cell_type": "markdown",
   "id": "09e94260-169f-4bf3-80c1-493cad94db7e",
   "metadata": {},
   "source": [
    "There are many more sport climbs than bouldering, but I will focus on bouldering datasince that is what I'm more familiar with\n",
    "There are 1.2 million boulders ascents logged."
   ]
  },
  {
   "cell_type": "code",
   "execution_count": 39,
   "id": "34e227e0-68fb-4f66-a49d-73cf745620f0",
   "metadata": {},
   "outputs": [],
   "source": [
    "ascents_bouldering = ascents.loc[ascents['climb_type'] == 1]\n",
    "\n",
    "user_ascent = pd.merge(user_clean, ascents_bouldering, \n",
    "                       left_on='id', right_on='user_id', how='inner', \n",
    "                       suffixes=('_user', '_ascents'))"
   ]
  },
  {
   "cell_type": "code",
   "execution_count": 41,
   "id": "692b699e-5a69-4784-bc16-83a1217abf5b",
   "metadata": {},
   "outputs": [
    {
     "data": {
      "text/plain": [
       "9469"
      ]
     },
     "execution_count": 41,
     "metadata": {},
     "output_type": "execute_result"
    },
    {
     "data": {
      "text/plain": [
       "739554"
      ]
     },
     "execution_count": 41,
     "metadata": {},
     "output_type": "execute_result"
    }
   ],
   "source": [
    "user_ascent['id_user'].nunique()\n",
    "user_ascent['id_ascents'].nunique()"
   ]
  },
  {
   "cell_type": "markdown",
   "id": "e4f338d3-5b1c-4380-9b19-9e1dc46a1a3e",
   "metadata": {},
   "source": [
    "After filtering to bouldering climbs and merging we have 9469 climbers with 739554 climbs"
   ]
  },
  {
   "cell_type": "markdown",
   "id": "25496b93-9686-41a8-9b76-5c01cba28a15",
   "metadata": {},
   "source": [
    "How many ascents does each climber have?"
   ]
  },
  {
   "cell_type": "code",
   "execution_count": 43,
   "id": "4ac39bf0-bc1a-4ff7-b388-cc6a2c533dd3",
   "metadata": {},
   "outputs": [
    {
     "data": {
      "text/plain": [
       "(array([421395., 169553.,  75168.,  31389.,  17211.,  13435.,   8705.,\n",
       "             0.,      0.,   2698.]),\n",
       " array([1.0000e+00, 2.7070e+02, 5.4040e+02, 8.1010e+02, 1.0798e+03,\n",
       "        1.3495e+03, 1.6192e+03, 1.8889e+03, 2.1586e+03, 2.4283e+03,\n",
       "        2.6980e+03]),\n",
       " <BarContainer object of 10 artists>)"
      ]
     },
     "execution_count": 43,
     "metadata": {},
     "output_type": "execute_result"
    },
    {
     "data": {
      "image/png": "[encoded data removed]",
      "text/plain": [
       "<Figure size 640x480 with 1 Axes>"
      ]
     },
     "metadata": {},
     "output_type": "display_data"
    }
   ],
   "source": [
    "user_ascent['ascent_count'] = user_ascent.groupby(\n",
    "    'id_user')['id_user'].transform('count')\n",
    "plt.hist(user_ascent['ascent_count'])"
   ]
  },
  {
   "cell_type": "markdown",
   "id": "3077ba8c-10e5-44ea-87d9-4f8275fd9d0a",
   "metadata": {},
   "source": [
    "Now let's calculate the age as another feature to use in the model. Age will be different for each ascent. First, we will need to clean the ascent data."
   ]
  },
  {
   "cell_type": "code",
   "execution_count": 46,
   "id": "7feffead-0f44-46e2-ac1d-003f12c6f22a",
   "metadata": {},
   "outputs": [
    {
     "data": {
      "text/plain": [
       "count    739554.000000\n",
       "mean       2010.991734\n",
       "std          12.352945\n",
       "min           0.000000\n",
       "25%        2008.000000\n",
       "50%        2011.000000\n",
       "75%        2014.000000\n",
       "max        2017.000000\n",
       "Name: year, dtype: float64"
      ]
     },
     "execution_count": 46,
     "metadata": {},
     "output_type": "execute_result"
    }
   ],
   "source": [
    "user_ascent['year'].describe()"
   ]
  },
  {
   "cell_type": "markdown",
   "id": "0e52e58d-fe66-4077-8f17-a43937c07edc",
   "metadata": {},
   "source": [
    "Some of the ascents are at year 0, so I will filter to those only after completed after the year 1900."
   ]
  },
  {
   "cell_type": "code",
   "execution_count": 47,
   "id": "c7ff99d0-d2a4-4538-8670-bd77feb70337",
   "metadata": {},
   "outputs": [
    {
     "data": {
      "text/plain": [
       "count    739527.000000\n",
       "mean       2011.062436\n",
       "std           3.916223\n",
       "min        1980.000000\n",
       "25%        2008.000000\n",
       "50%        2011.000000\n",
       "75%        2014.000000\n",
       "max        2017.000000\n",
       "Name: year, dtype: float64"
      ]
     },
     "execution_count": 47,
     "metadata": {},
     "output_type": "execute_result"
    }
   ],
   "source": [
    "user_ascent = user_ascent[user_ascent['year'] > 1900]\n",
    "user_ascent['year'].describe()"
   ]
  },
  {
   "cell_type": "markdown",
   "id": "ab73d547-1158-4907-b3bc-f0019fcabf05",
   "metadata": {},
   "source": [
    "Now birth year will need to converted to pandas datatime so we can subtract ascent year and birth year to determine age of the climbers at each ascent."
   ]
  },
  {
   "cell_type": "code",
   "execution_count": 49,
   "id": "3a4ba6c9-b604-4b9a-b10f-a729d57e132e",
   "metadata": {},
   "outputs": [
    {
     "data": {
      "text/plain": [
       "count    739527.000000\n",
       "mean         27.366561\n",
       "std           6.909296\n",
       "min          -5.000000\n",
       "25%          23.000000\n",
       "50%          27.000000\n",
       "75%          31.000000\n",
       "max          72.000000\n",
       "Name: ascent_age, dtype: float64"
      ]
     },
     "execution_count": 49,
     "metadata": {},
     "output_type": "execute_result"
    }
   ],
   "source": [
    "#convert to pandas datetime to access birth year\n",
    "user_ascent['birth'] = pd.to_datetime(user_ascent['birth'])\n",
    "user_ascent['birth_year'] = user_ascent['birth'].dt.year\n",
    "\n",
    "user_ascent['ascent_age'] = user_ascent['year'] - user_ascent['birth_year']\n",
    "user_ascent['ascent_age'].describe()\n",
    "user_ascent[['id_user','birth_year', \n",
    "             'year', 'ascent_age']].sort_values('ascent_age')\n"
   ]
  },
  {
   "cell_type": "markdown",
   "id": "2b9eee5e-aa64-4750-937f-3830bc1e637d",
   "metadata": {},
   "source": [
    "Several climbers completed climbs before they were born, so I will remove any rows where ascent age is less than 5"
   ]
  },
  {
   "cell_type": "code",
   "execution_count": 50,
   "id": "fa5afc0a-a013-4272-ab49-a8282ce3dee2",
   "metadata": {},
   "outputs": [
    {
     "data": {
      "text/html": [
       "<div>\n",
       "<style scoped>\n",
       "    .dataframe tbody tr th:only-of-type {\n",
       "        vertical-align: middle;\n",
       "    }\n",
       "\n",
       "    .dataframe tbody tr th {\n",
       "        vertical-align: top;\n",
       "    }\n",
       "\n",
       "    .dataframe thead th {\n",
       "        text-align: right;\n",
       "    }\n",
       "</style>\n",
       "<table border=\"1\" class=\"dataframe\">\n",
       "  <thead>\n",
       "    <tr style=\"text-align: right;\">\n",
       "      <th></th>\n",
       "      <th>id_user</th>\n",
       "      <th>birth_year</th>\n",
       "      <th>year</th>\n",
       "      <th>ascent_age</th>\n",
       "    </tr>\n",
       "  </thead>\n",
       "  <tbody>\n",
       "    <tr>\n",
       "      <th>482823</th>\n",
       "      <td>28800</td>\n",
       "      <td>2004</td>\n",
       "      <td>2010</td>\n",
       "      <td>6</td>\n",
       "    </tr>\n",
       "    <tr>\n",
       "      <th>482825</th>\n",
       "      <td>28800</td>\n",
       "      <td>2004</td>\n",
       "      <td>2010</td>\n",
       "      <td>6</td>\n",
       "    </tr>\n",
       "    <tr>\n",
       "      <th>345782</th>\n",
       "      <td>19475</td>\n",
       "      <td>2000</td>\n",
       "      <td>2006</td>\n",
       "      <td>6</td>\n",
       "    </tr>\n",
       "    <tr>\n",
       "      <th>345791</th>\n",
       "      <td>19475</td>\n",
       "      <td>2000</td>\n",
       "      <td>2006</td>\n",
       "      <td>6</td>\n",
       "    </tr>\n",
       "    <tr>\n",
       "      <th>345790</th>\n",
       "      <td>19475</td>\n",
       "      <td>2000</td>\n",
       "      <td>2006</td>\n",
       "      <td>6</td>\n",
       "    </tr>\n",
       "    <tr>\n",
       "      <th>...</th>\n",
       "      <td>...</td>\n",
       "      <td>...</td>\n",
       "      <td>...</td>\n",
       "      <td>...</td>\n",
       "    </tr>\n",
       "    <tr>\n",
       "      <th>709659</th>\n",
       "      <td>57825</td>\n",
       "      <td>1951</td>\n",
       "      <td>2017</td>\n",
       "      <td>66</td>\n",
       "    </tr>\n",
       "    <tr>\n",
       "      <th>738920</th>\n",
       "      <td>66364</td>\n",
       "      <td>1949</td>\n",
       "      <td>2017</td>\n",
       "      <td>68</td>\n",
       "    </tr>\n",
       "    <tr>\n",
       "      <th>628037</th>\n",
       "      <td>43325</td>\n",
       "      <td>1940</td>\n",
       "      <td>2012</td>\n",
       "      <td>72</td>\n",
       "    </tr>\n",
       "    <tr>\n",
       "      <th>628035</th>\n",
       "      <td>43325</td>\n",
       "      <td>1940</td>\n",
       "      <td>2012</td>\n",
       "      <td>72</td>\n",
       "    </tr>\n",
       "    <tr>\n",
       "      <th>628036</th>\n",
       "      <td>43325</td>\n",
       "      <td>1940</td>\n",
       "      <td>2012</td>\n",
       "      <td>72</td>\n",
       "    </tr>\n",
       "  </tbody>\n",
       "</table>\n",
       "<p>738383 rows × 4 columns</p>\n",
       "</div>"
      ],
      "text/plain": [
       "        id_user  birth_year  year  ascent_age\n",
       "482823    28800        2004  2010           6\n",
       "482825    28800        2004  2010           6\n",
       "345782    19475        2000  2006           6\n",
       "345791    19475        2000  2006           6\n",
       "345790    19475        2000  2006           6\n",
       "...         ...         ...   ...         ...\n",
       "709659    57825        1951  2017          66\n",
       "738920    66364        1949  2017          68\n",
       "628037    43325        1940  2012          72\n",
       "628035    43325        1940  2012          72\n",
       "628036    43325        1940  2012          72\n",
       "\n",
       "[738383 rows x 4 columns]"
      ]
     },
     "execution_count": 50,
     "metadata": {},
     "output_type": "execute_result"
    },
    {
     "data": {
      "text/plain": [
       "(array([2.66100e+03, 7.62230e+04, 2.30747e+05, 2.81062e+05, 1.00122e+05,\n",
       "        3.67170e+04, 8.79900e+03, 1.56200e+03, 4.39000e+02, 5.10000e+01]),\n",
       " array([ 6. , 12.6, 19.2, 25.8, 32.4, 39. , 45.6, 52.2, 58.8, 65.4, 72. ]),\n",
       " <BarContainer object of 10 artists>)"
      ]
     },
     "execution_count": 50,
     "metadata": {},
     "output_type": "execute_result"
    },
    {
     "data": {
      "image/png": "[encoded data removed]",
      "text/plain": [
       "<Figure size 640x480 with 1 Axes>"
      ]
     },
     "metadata": {},
     "output_type": "display_data"
    }
   ],
   "source": [
    "user_ascent = user_ascent[user_ascent['ascent_age'] > 5]\n",
    "\n",
    "user_ascent[['id_user','birth_year', \n",
    "             'year', 'ascent_age']].sort_values('ascent_age')\n",
    "\n",
    "plt.hist(user_ascent['ascent_age'])"
   ]
  },
  {
   "cell_type": "markdown",
   "id": "10caed2b-c7cb-4a56-a5aa-09ddbe2f54e2",
   "metadata": {},
   "source": [
    "I'll now calculate years of climbing experience at each ascent. This value will be different at each \n",
    "ascent. I'll first check the started column and remove any climbers that started climbing before 1900."
   ]
  },
  {
   "cell_type": "code",
   "execution_count": 51,
   "id": "8b0944a4-ecca-4e25-954a-0a1fb0e1aaa4",
   "metadata": {},
   "outputs": [
    {
     "data": {
      "text/plain": [
       "count    738383.000000\n",
       "mean       1866.226224\n",
       "std         503.589656\n",
       "min           0.000000\n",
       "25%        1997.000000\n",
       "50%        2002.000000\n",
       "75%        2007.000000\n",
       "max        2050.000000\n",
       "Name: started, dtype: float64"
      ]
     },
     "execution_count": 51,
     "metadata": {},
     "output_type": "execute_result"
    },
    {
     "data": {
      "text/plain": [
       "count    688275.000000\n",
       "mean       2002.091777\n",
       "std           7.050801\n",
       "min        1914.000000\n",
       "25%        1998.000000\n",
       "50%        2003.000000\n",
       "75%        2007.000000\n",
       "max        2050.000000\n",
       "Name: started, dtype: float64"
      ]
     },
     "execution_count": 51,
     "metadata": {},
     "output_type": "execute_result"
    }
   ],
   "source": [
    "user_ascent['started'].describe()\n",
    "user_ascent = user_ascent[user_ascent['started'] > 1900]\n",
    "user_ascent['started'].describe()"
   ]
  },
  {
   "cell_type": "code",
   "execution_count": 52,
   "id": "895012c2-7181-418e-b2bd-02325122daa9",
   "metadata": {},
   "outputs": [
    {
     "data": {
      "text/plain": [
       "count    688275.000000\n",
       "mean          8.835313\n",
       "std           6.514974\n",
       "min         -42.000000\n",
       "25%           4.000000\n",
       "50%           7.000000\n",
       "75%          12.000000\n",
       "max         100.000000\n",
       "Name: years_exp, dtype: float64"
      ]
     },
     "execution_count": 52,
     "metadata": {},
     "output_type": "execute_result"
    }
   ],
   "source": [
    "user_ascent['years_exp'] = user_ascent['year'] - user_ascent['started']\n",
    "user_ascent['years_exp'].describe()"
   ]
  },
  {
   "cell_type": "markdown",
   "id": "0d6b788a-ad9d-4c39-b122-a1f4ba90d63f",
   "metadata": {},
   "source": [
    "Some climbers have negative climbing experience, so I will remove these rows."
   ]
  },
  {
   "cell_type": "code",
   "execution_count": 54,
   "id": "25ce3a0b-d60a-47dd-a806-e2df17221dfb",
   "metadata": {},
   "outputs": [
    {
     "data": {
      "text/plain": [
       "count    681385.000000\n",
       "mean          8.940418\n",
       "std           6.429354\n",
       "min           1.000000\n",
       "25%           4.000000\n",
       "50%           7.000000\n",
       "75%          12.000000\n",
       "max         100.000000\n",
       "Name: years_exp, dtype: float64"
      ]
     },
     "execution_count": 54,
     "metadata": {},
     "output_type": "execute_result"
    },
    {
     "data": {
      "text/plain": [
       "(array([4.65062e+05, 1.80163e+05, 2.90320e+04, 6.13900e+03, 6.91000e+02,\n",
       "        2.50000e+01, 2.37000e+02, 0.00000e+00, 1.00000e+00, 3.50000e+01]),\n",
       " array([  1. ,  10.9,  20.8,  30.7,  40.6,  50.5,  60.4,  70.3,  80.2,\n",
       "         90.1, 100. ]),\n",
       " <BarContainer object of 10 artists>)"
      ]
     },
     "execution_count": 54,
     "metadata": {},
     "output_type": "execute_result"
    },
    {
     "data": {
      "image/png": "[encoded data removed]",
      "text/plain": [
       "<Figure size 640x480 with 1 Axes>"
      ]
     },
     "metadata": {},
     "output_type": "display_data"
    }
   ],
   "source": [
    "user_ascent = user_ascent[user_ascent['years_exp'] > 0]\n",
    "user_ascent['years_exp'].describe()\n",
    "plt.hist(user_ascent['years_exp'])"
   ]
  },
  {
   "cell_type": "markdown",
   "id": "0306fc18-1508-496b-965b-83fb962d81c9",
   "metadata": {},
   "source": [
    "There still look there are some extreme values, such as climbers that have 100 years of experience. I'll remove ascents where years of experience is greater than ascent age."
   ]
  },
  {
   "cell_type": "code",
   "execution_count": 56,
   "id": "b9e74270-76da-4bb4-b393-c7ca7a29b768",
   "metadata": {},
   "outputs": [
    {
     "data": {
      "text/html": [
       "<div>\n",
       "<style scoped>\n",
       "    .dataframe tbody tr th:only-of-type {\n",
       "        vertical-align: middle;\n",
       "    }\n",
       "\n",
       "    .dataframe tbody tr th {\n",
       "        vertical-align: top;\n",
       "    }\n",
       "\n",
       "    .dataframe thead th {\n",
       "        text-align: right;\n",
       "    }\n",
       "</style>\n",
       "<table border=\"1\" class=\"dataframe\">\n",
       "  <thead>\n",
       "    <tr style=\"text-align: right;\">\n",
       "      <th></th>\n",
       "      <th>id_user</th>\n",
       "      <th>birth_year</th>\n",
       "      <th>year</th>\n",
       "      <th>ascent_age</th>\n",
       "      <th>years_exp</th>\n",
       "    </tr>\n",
       "  </thead>\n",
       "  <tbody>\n",
       "    <tr>\n",
       "      <th>345787</th>\n",
       "      <td>19475</td>\n",
       "      <td>2000</td>\n",
       "      <td>2006</td>\n",
       "      <td>6</td>\n",
       "      <td>3</td>\n",
       "    </tr>\n",
       "    <tr>\n",
       "      <th>345796</th>\n",
       "      <td>19475</td>\n",
       "      <td>2000</td>\n",
       "      <td>2006</td>\n",
       "      <td>6</td>\n",
       "      <td>3</td>\n",
       "    </tr>\n",
       "    <tr>\n",
       "      <th>345791</th>\n",
       "      <td>19475</td>\n",
       "      <td>2000</td>\n",
       "      <td>2006</td>\n",
       "      <td>6</td>\n",
       "      <td>3</td>\n",
       "    </tr>\n",
       "    <tr>\n",
       "      <th>345790</th>\n",
       "      <td>19475</td>\n",
       "      <td>2000</td>\n",
       "      <td>2006</td>\n",
       "      <td>6</td>\n",
       "      <td>3</td>\n",
       "    </tr>\n",
       "    <tr>\n",
       "      <th>345788</th>\n",
       "      <td>19475</td>\n",
       "      <td>2000</td>\n",
       "      <td>2006</td>\n",
       "      <td>6</td>\n",
       "      <td>3</td>\n",
       "    </tr>\n",
       "    <tr>\n",
       "      <th>...</th>\n",
       "      <td>...</td>\n",
       "      <td>...</td>\n",
       "      <td>...</td>\n",
       "      <td>...</td>\n",
       "      <td>...</td>\n",
       "    </tr>\n",
       "    <tr>\n",
       "      <th>709657</th>\n",
       "      <td>57825</td>\n",
       "      <td>1951</td>\n",
       "      <td>2017</td>\n",
       "      <td>66</td>\n",
       "      <td>49</td>\n",
       "    </tr>\n",
       "    <tr>\n",
       "      <th>709656</th>\n",
       "      <td>57825</td>\n",
       "      <td>1951</td>\n",
       "      <td>2017</td>\n",
       "      <td>66</td>\n",
       "      <td>49</td>\n",
       "    </tr>\n",
       "    <tr>\n",
       "      <th>709672</th>\n",
       "      <td>57825</td>\n",
       "      <td>1951</td>\n",
       "      <td>2017</td>\n",
       "      <td>66</td>\n",
       "      <td>49</td>\n",
       "    </tr>\n",
       "    <tr>\n",
       "      <th>723451</th>\n",
       "      <td>60319</td>\n",
       "      <td>1951</td>\n",
       "      <td>2017</td>\n",
       "      <td>66</td>\n",
       "      <td>6</td>\n",
       "    </tr>\n",
       "    <tr>\n",
       "      <th>738920</th>\n",
       "      <td>66364</td>\n",
       "      <td>1949</td>\n",
       "      <td>2017</td>\n",
       "      <td>68</td>\n",
       "      <td>40</td>\n",
       "    </tr>\n",
       "  </tbody>\n",
       "</table>\n",
       "<p>679365 rows × 5 columns</p>\n",
       "</div>"
      ],
      "text/plain": [
       "        id_user  birth_year  year  ascent_age  years_exp\n",
       "345787    19475        2000  2006           6          3\n",
       "345796    19475        2000  2006           6          3\n",
       "345791    19475        2000  2006           6          3\n",
       "345790    19475        2000  2006           6          3\n",
       "345788    19475        2000  2006           6          3\n",
       "...         ...         ...   ...         ...        ...\n",
       "709657    57825        1951  2017          66         49\n",
       "709656    57825        1951  2017          66         49\n",
       "709672    57825        1951  2017          66         49\n",
       "723451    60319        1951  2017          66          6\n",
       "738920    66364        1949  2017          68         40\n",
       "\n",
       "[679365 rows x 5 columns]"
      ]
     },
     "execution_count": 56,
     "metadata": {},
     "output_type": "execute_result"
    },
    {
     "data": {
      "text/plain": [
       "(array([2.91969e+05, 2.05453e+05, 1.19042e+05, 3.84960e+04, 1.50730e+04,\n",
       "        6.40000e+03, 2.28800e+03, 2.66000e+02, 3.75000e+02, 3.00000e+00]),\n",
       " array([ 1. ,  6.5, 12. , 17.5, 23. , 28.5, 34. , 39.5, 45. , 50.5, 56. ]),\n",
       " <BarContainer object of 10 artists>)"
      ]
     },
     "execution_count": 56,
     "metadata": {},
     "output_type": "execute_result"
    },
    {
     "data": {
      "image/png": "[encoded data removed]",
      "text/plain": [
       "<Figure size 640x480 with 1 Axes>"
      ]
     },
     "metadata": {},
     "output_type": "display_data"
    }
   ],
   "source": [
    "user_ascent[['id_user','birth_year', 'year', \n",
    "             'ascent_age', 'years_exp']].sort_values('ascent_age')\n",
    "user_ascent = user_ascent[user_ascent['years_exp'] < user_ascent['ascent_age']]\n",
    "plt.hist(user_ascent['years_exp'])"
   ]
  },
  {
   "cell_type": "markdown",
   "id": "9f7f86a1-867b-4f07-9446-2031c56d3d1d",
   "metadata": {},
   "source": [
    "Next I will merge in methods and grades tables."
   ]
  },
  {
   "cell_type": "code",
   "execution_count": 58,
   "id": "e3da5848-c261-40e4-b1d1-c3bad66c1966",
   "metadata": {},
   "outputs": [
    {
     "data": {
      "text/html": [
       "<div>\n",
       "<style scoped>\n",
       "    .dataframe tbody tr th:only-of-type {\n",
       "        vertical-align: middle;\n",
       "    }\n",
       "\n",
       "    .dataframe tbody tr th {\n",
       "        vertical-align: top;\n",
       "    }\n",
       "\n",
       "    .dataframe thead th {\n",
       "        text-align: right;\n",
       "    }\n",
       "</style>\n",
       "<table border=\"1\" class=\"dataframe\">\n",
       "  <thead>\n",
       "    <tr style=\"text-align: right;\">\n",
       "      <th></th>\n",
       "      <th>user_id</th>\n",
       "      <th>id_ascents</th>\n",
       "      <th>id_grades</th>\n",
       "      <th>usa_boulders</th>\n",
       "      <th>id_methods</th>\n",
       "      <th>name_methods</th>\n",
       "    </tr>\n",
       "  </thead>\n",
       "  <tbody>\n",
       "    <tr>\n",
       "      <th>0</th>\n",
       "      <td>1</td>\n",
       "      <td>37265</td>\n",
       "      <td>44</td>\n",
       "      <td>V5</td>\n",
       "      <td>1</td>\n",
       "      <td>Redpoint</td>\n",
       "    </tr>\n",
       "    <tr>\n",
       "      <th>1</th>\n",
       "      <td>1</td>\n",
       "      <td>37266</td>\n",
       "      <td>44</td>\n",
       "      <td>V5</td>\n",
       "      <td>1</td>\n",
       "      <td>Redpoint</td>\n",
       "    </tr>\n",
       "    <tr>\n",
       "      <th>2</th>\n",
       "      <td>1</td>\n",
       "      <td>44846</td>\n",
       "      <td>44</td>\n",
       "      <td>V5</td>\n",
       "      <td>1</td>\n",
       "      <td>Redpoint</td>\n",
       "    </tr>\n",
       "    <tr>\n",
       "      <th>3</th>\n",
       "      <td>1</td>\n",
       "      <td>58369</td>\n",
       "      <td>44</td>\n",
       "      <td>V5</td>\n",
       "      <td>1</td>\n",
       "      <td>Redpoint</td>\n",
       "    </tr>\n",
       "    <tr>\n",
       "      <th>4</th>\n",
       "      <td>1</td>\n",
       "      <td>59957</td>\n",
       "      <td>44</td>\n",
       "      <td>V5</td>\n",
       "      <td>1</td>\n",
       "      <td>Redpoint</td>\n",
       "    </tr>\n",
       "    <tr>\n",
       "      <th>...</th>\n",
       "      <td>...</td>\n",
       "      <td>...</td>\n",
       "      <td>...</td>\n",
       "      <td>...</td>\n",
       "      <td>...</td>\n",
       "      <td>...</td>\n",
       "    </tr>\n",
       "    <tr>\n",
       "      <th>679360</th>\n",
       "      <td>17531</td>\n",
       "      <td>1374572</td>\n",
       "      <td>53</td>\n",
       "      <td>V8</td>\n",
       "      <td>3</td>\n",
       "      <td>Onsight</td>\n",
       "    </tr>\n",
       "    <tr>\n",
       "      <th>679361</th>\n",
       "      <td>17531</td>\n",
       "      <td>1374579</td>\n",
       "      <td>53</td>\n",
       "      <td>V8</td>\n",
       "      <td>3</td>\n",
       "      <td>Onsight</td>\n",
       "    </tr>\n",
       "    <tr>\n",
       "      <th>679362</th>\n",
       "      <td>31301</td>\n",
       "      <td>1564382</td>\n",
       "      <td>53</td>\n",
       "      <td>V8</td>\n",
       "      <td>3</td>\n",
       "      <td>Onsight</td>\n",
       "    </tr>\n",
       "    <tr>\n",
       "      <th>679363</th>\n",
       "      <td>1263</td>\n",
       "      <td>572473</td>\n",
       "      <td>64</td>\n",
       "      <td>V12</td>\n",
       "      <td>3</td>\n",
       "      <td>Onsight</td>\n",
       "    </tr>\n",
       "    <tr>\n",
       "      <th>679364</th>\n",
       "      <td>60233</td>\n",
       "      <td>4896348</td>\n",
       "      <td>25</td>\n",
       "      <td>V0</td>\n",
       "      <td>3</td>\n",
       "      <td>Onsight</td>\n",
       "    </tr>\n",
       "  </tbody>\n",
       "</table>\n",
       "<p>679365 rows × 6 columns</p>\n",
       "</div>"
      ],
      "text/plain": [
       "        user_id  id_ascents  id_grades usa_boulders  id_methods name_methods\n",
       "0             1       37265         44           V5           1     Redpoint\n",
       "1             1       37266         44           V5           1     Redpoint\n",
       "2             1       44846         44           V5           1     Redpoint\n",
       "3             1       58369         44           V5           1     Redpoint\n",
       "4             1       59957         44           V5           1     Redpoint\n",
       "...         ...         ...        ...          ...         ...          ...\n",
       "679360    17531     1374572         53           V8           3      Onsight\n",
       "679361    17531     1374579         53           V8           3      Onsight\n",
       "679362    31301     1564382         53           V8           3      Onsight\n",
       "679363     1263      572473         64          V12           3      Onsight\n",
       "679364    60233     4896348         25           V0           3      Onsight\n",
       "\n",
       "[679365 rows x 6 columns]"
      ]
     },
     "execution_count": 58,
     "metadata": {},
     "output_type": "execute_result"
    },
    {
     "data": {
      "text/plain": [
       "id_user                          int64\n",
       "first_name                      object\n",
       "last_name                       object\n",
       "city                            object\n",
       "country_user                    object\n",
       "sex                              int64\n",
       "height                         float64\n",
       "weight                           int64\n",
       "started                          int64\n",
       "competitions                    object\n",
       "occupation                      object\n",
       "sponsor1                        object\n",
       "sponsor2                        object\n",
       "sponsor3                        object\n",
       "best_area                       object\n",
       "worst_area                      object\n",
       "guide_area                      object\n",
       "interests                       object\n",
       "birth                   datetime64[ns]\n",
       "presentation                    object\n",
       "deactivated                      int64\n",
       "anonymous                        int64\n",
       "bmi                            float64\n",
       "id_ascents                       int64\n",
       "user_id                          int64\n",
       "grade_id                         int64\n",
       "notes                           object\n",
       "raw_notes                        int64\n",
       "method_id                        int64\n",
       "climb_type                       int64\n",
       "total_score                      int64\n",
       "date                             int64\n",
       "year                             int64\n",
       "last_year                        int64\n",
       "rec_date                         int64\n",
       "project_ascent_date              int64\n",
       "name_grades                     object\n",
       "crag_id                          int64\n",
       "crag                            object\n",
       "sector_id                        int64\n",
       "sector                          object\n",
       "country_ascents                 object\n",
       "comment                         object\n",
       "rating                           int64\n",
       "description                     object\n",
       "yellow_id                        int64\n",
       "climb_try                        int64\n",
       "repeat                           int64\n",
       "exclude_from_ranking             int64\n",
       "user_recommended                 int64\n",
       "chipped                          int64\n",
       "ascent_count                     int64\n",
       "birth_year                       int64\n",
       "ascent_age                       int64\n",
       "years_exp                        int64\n",
       "id_grades                        int64\n",
       "usa_boulders                    object\n",
       "id_methods                       int64\n",
       "name_methods                    object\n",
       "dtype: object"
      ]
     },
     "execution_count": 58,
     "metadata": {},
     "output_type": "execute_result"
    }
   ],
   "source": [
    "user_ascent_grade = pd.merge(user_ascent, grades[['id', 'usa_boulders']], \n",
    "                             left_on='grade_id', right_on='id', how='inner', \n",
    "                             suffixes=('_ascents', '_grades'))\n",
    "\n",
    "user_ascent_grade_method = pd.merge(user_ascent_grade, \n",
    "                                    method[['id', 'name']], left_on='method_id',\n",
    "                                    right_on='id', how='inner', \n",
    "                                    suffixes=('_grades','_methods'))\n",
    "\n",
    "#check results of merge\n",
    "user_ascent_grade_method[['user_id', 'id_ascents', 'id_grades', 'usa_boulders',\n",
    "                          'id_methods', 'name_methods']]"
   ]
  },
  {
   "cell_type": "markdown",
   "id": "f92cd0f6-b272-4ee5-a05a-e4f7c9de23df",
   "metadata": {},
   "source": [
    "Now I'm going to clean up the grades column. I'm going to condense some of the grades and convert them to integers."
   ]
  },
  {
   "cell_type": "code",
   "execution_count": 59,
   "id": "523226d9-dbd9-4f42-86ed-c9fa1961533c",
   "metadata": {},
   "outputs": [
    {
     "data": {
      "text/plain": [
       "array(['V5', 'V3/4', 'V3', 'V4', 'V1', 'V0', 'V2', 'VB', 'V7', 'V6',\n",
       "       'V4/V5', 'V5/V6', 'V8/9', 'V9', 'V11', 'V10', 'V8', 'V12', 'V13',\n",
       "       'V14', 'V15', 'V16', 'V17', 'V0-'], dtype=object)"
      ]
     },
     "execution_count": 59,
     "metadata": {},
     "output_type": "execute_result"
    },
    {
     "data": {
      "text/plain": [
       "array(['V5', 'V3', 'V4', 'V1', 'V0', 'V2', 'VB', 'V7', 'V6', 'V8', 'V9',\n",
       "       'V11', 'V10', 'V12', 'V13', 'V14', 'V15', 'V16', 'V17'],\n",
       "      dtype=object)"
      ]
     },
     "execution_count": 59,
     "metadata": {},
     "output_type": "execute_result"
    },
    {
     "data": {
      "text/plain": [
       "array([ 5,  3,  4,  1,  0,  2, -1,  7,  6,  8,  9, 11, 10, 12, 13, 14, 15,\n",
       "       16, 17])"
      ]
     },
     "execution_count": 59,
     "metadata": {},
     "output_type": "execute_result"
    }
   ],
   "source": [
    "#remove na from grades\n",
    "user_ascent_grade_method = user_ascent_grade_method[user_ascent_grade_method['usa_boulders'].notna()]\n",
    "\n",
    "#lets check how many users and ascents we lost after all of the data cleaning\n",
    "\n",
    "#convert grades with multiple to be one grade, using the lower grade\n",
    "user_ascent_grade_method['usa_boulders_new'] = np.where(user_ascent_grade_method['usa_boulders'] == 'V0-',\n",
    "             'VB', np.where(user_ascent_grade_method['usa_boulders'] == 'V3/4',\n",
    "                      'V3', np.where(user_ascent_grade_method['usa_boulders'] == 'V4/V5',\n",
    "                               'V4', np.where(user_ascent_grade_method['usa_boulders'] == 'V5/V6',\n",
    "                                        'V5', np.where(user_ascent_grade_method['usa_boulders'] == 'V8/9',\n",
    "                                                 'V8', user_ascent_grade_method['usa_boulders'])))))\n",
    "\n",
    "#create numeric version of grades\n",
    "user_ascent_grade_method['usa_boulders_numeric'] = user_ascent_grade_method['usa_boulders_new'].str.replace(\"V\", \"\")\n",
    "user_ascent_grade_method['usa_boulders_numeric'] = user_ascent_grade_method['usa_boulders_numeric'].str.replace(\"B\", \"-1\")\n",
    "user_ascent_grade_method['usa_boulders_numeric']  = user_ascent_grade_method['usa_boulders_numeric'].astype(int)\n",
    "\n",
    "\n",
    "user_ascent_grade_method['usa_boulders'].unique()\n",
    "user_ascent_grade_method['usa_boulders_new'].unique()\n",
    "user_ascent_grade_method['usa_boulders_numeric'].unique()"
   ]
  },
  {
   "cell_type": "markdown",
   "id": "17d10dc0-24e9-4e47-9629-f5afe2c3abec",
   "metadata": {},
   "source": [
    "Let's look at how many ascents there are for each grade."
   ]
  },
  {
   "cell_type": "code",
   "execution_count": 60,
   "id": "b805beec-51ff-4da9-b29f-b37c0be56b22",
   "metadata": {},
   "outputs": [
    {
     "data": {
      "text/plain": [
       "<AxesSubplot:xlabel='usa_boulders_new'>"
      ]
     },
     "execution_count": 60,
     "metadata": {},
     "output_type": "execute_result"
    },
    {
     "data": {
      "image/png": "[encoded data removed]",
      "text/plain": [
       "<Figure size 640x480 with 1 Axes>"
      ]
     },
     "metadata": {},
     "output_type": "display_data"
    }
   ],
   "source": [
    "#set order of grades\n",
    "grades_order = [\"VB\", \"V0\", \"V1\", \"V2\", \"V3\", \"V4\", \"V5\", \"V6\", \"V7\", \n",
    "                \"V8\", \"V9\", \"V10\", \"V11\", \"V12\", \"V13\", \"V14\", \"V15\", \"V16\", \"V17\"]\n",
    "\n",
    "\n",
    "grades_summary = pd.DataFrame(user_ascent_grade_method.groupby('usa_boulders_new').size())\n",
    "grades_summary.index.name = 'usa_boulders_new'\n",
    "grades_summary.reset_index(inplace=True)\n",
    "grades_summary.set_index('usa_boulders_new').loc[grades_order].plot(kind=\"bar\")"
   ]
  },
  {
   "cell_type": "markdown",
   "id": "cbb45c76-aa2e-4c22-8221-81ac1dd22047",
   "metadata": {},
   "source": [
    "How are ascents completed?"
   ]
  },
  {
   "cell_type": "code",
   "execution_count": 61,
   "id": "993eac0e-a906-45de-8b49-c93e2940839d",
   "metadata": {},
   "outputs": [
    {
     "data": {
      "text/plain": [
       "name_methods\n",
       "Flash       100725\n",
       "Onsight      49795\n",
       "Redpoint    528560\n",
       "dtype: int64"
      ]
     },
     "execution_count": 61,
     "metadata": {},
     "output_type": "execute_result"
    },
    {
     "data": {
      "text/plain": [
       "<AxesSubplot:xlabel='name_methods'>"
      ]
     },
     "execution_count": 61,
     "metadata": {},
     "output_type": "execute_result"
    },
    {
     "data": {
      "image/png": "[encoded data removed]",
      "text/plain": [
       "<Figure size 640x480 with 1 Axes>"
      ]
     },
     "metadata": {},
     "output_type": "display_data"
    }
   ],
   "source": [
    "#toprope is not supposed to be in the section of boulders, so I will remove ascents with these labels\n",
    "user_ascent_grade_method = user_ascent_grade_method[user_ascent_grade_method['name_methods'].isin(\n",
    "    ['Flash', 'Onsight', 'Redpoint'])]\n",
    "\n",
    "methods_summary = user_ascent_grade_method.groupby('name_methods').size()\n",
    "methods_summary\n",
    "methods_summary.plot(kind='bar')"
   ]
  },
  {
   "cell_type": "markdown",
   "id": "f29b8e67-80be-4ff1-8563-df906e944c71",
   "metadata": {},
   "source": [
    "I'm going to identify the max grade completed per user and create a column with the date of the first time the maximum grade was completed (in the event a climber has multiple ascents of the max grade) "
   ]
  },
  {
   "cell_type": "code",
   "execution_count": 62,
   "id": "7b7f95cf-dce5-4ab7-b6a6-b9d137d5465e",
   "metadata": {},
   "outputs": [],
   "source": [
    "#identify max grade completed per user\n",
    "user_ascent_grade_method['max_grade'] = user_ascent_grade_method['usa_boulders_numeric'].groupby(\n",
    "    user_ascent_grade_method['id_user']).transform('max')\n",
    "\n",
    "#create column with date of first max grade ascent\n",
    "user_ascent_grade_method['max_grade_date']=user_ascent_grade_method.sort_values(\n",
    "    by=['usa_boulders_numeric', 'year'],ascending=[False, True]).groupby(\n",
    "        'id_user')['year'].transform('first')\n",
    "\n",
    "#remove any ascents that were completed after the max grade date \n",
    "user_ascent_grade_method = user_ascent_grade_method[user_ascent_grade_method['year'] <= user_ascent_grade_method['max_grade_date']]\n"
   ]
  },
  {
   "cell_type": "markdown",
   "id": "d39439bc-9ce8-471f-90b2-03f6d32e9095",
   "metadata": {},
   "source": [
    "Now I'm going to determine the years of experience and age for a climber has at the time they completed their max grade. If there is a tie for a user by max grade, I'll select the ascent that was completed first. I don't want to use total years of experience because this could include data from the future in the model."
   ]
  },
  {
   "cell_type": "code",
   "execution_count": 67,
   "id": "47c63767-154f-4d79-9824-abf1dd7694f4",
   "metadata": {},
   "outputs": [],
   "source": [
    "user_ascent_grade_method['years_exp_max_grade']=user_ascent_grade_method.sort_values(\n",
    "    by=['usa_boulders_numeric', 'year'],ascending=[False, True]).groupby(\n",
    "        'id_user')['years_exp'].transform('first')\n",
    "\n",
    "user_ascent_grade_method['age_max_grade']=user_ascent_grade_method.sort_values(\n",
    "    by=['usa_boulders_numeric', 'year'],ascending=[False, True]).groupby(\n",
    "        'id_user')['ascent_age'].transform('first')\n",
    "\n",
    "\n",
    "#check number ascents at time max grade was completed\n",
    "user_ascent_grade_method['ascents_max_grade'] = user_ascent_grade_method.groupby(\n",
    "    'id_user')['id_user'].transform('count')"
   ]
  },
  {
   "cell_type": "markdown",
   "id": "2392e2c4-8698-4418-9175-09d766c9487c",
   "metadata": {},
   "source": [
    "Next I will count the number of redpoints, flashes, and onsights for each climber. Each ascent can be cateogrized as one of these types.\n",
    "\n",
    "flash - completed on first try but have seen others do it or were told how to do it\n",
    "\n",
    "redpoint - completed climb after having practiced the route\n",
    "\n",
    "onsight - completed first try without seeing any else do it or being told how to do it\n"
   ]
  },
  {
   "cell_type": "code",
   "execution_count": 68,
   "id": "9f724402-7fea-4bb5-8020-ac5395de3bdb",
   "metadata": {},
   "outputs": [],
   "source": [
    "#pivot table to find number of redpoints, flashes, and onsights\n",
    "ascent_type_sums = user_ascent_grade_method.pivot_table(\n",
    "    values='ascent_count', index='user_id', columns='name_methods',\n",
    "    fill_value=0, aggfunc='sum')\n",
    "\n",
    "user_ascent_grade_method = pd.merge(user_ascent_grade_method, ascent_type_sums, on='user_id')\n",
    "\n",
    "#check results\n",
    "#user_ascent_grade_method[user_ascent_grade_method['user_id'] == 3][['user_id', 'ascents_max_grade', 'Redpoint', 'Onsight', 'Flash']]\n"
   ]
  },
  {
   "cell_type": "markdown",
   "id": "ea81618d-8ce4-4e64-a805-15053ab5dd93",
   "metadata": {},
   "source": [
    "What countries are the climbers from?"
   ]
  },
  {
   "cell_type": "code",
   "execution_count": 70,
   "id": "c7b58550-0a71-48c3-8307-1b166d7e5d1e",
   "metadata": {},
   "outputs": [
    {
     "data": {
      "text/plain": [
       "<AxesSubplot:xlabel='Country', ylabel='Number of users'>"
      ]
     },
     "execution_count": 70,
     "metadata": {},
     "output_type": "execute_result"
    },
    {
     "data": {
      "image/png": "[encoded data removed]",
      "text/plain": [
       "<Figure size 640x480 with 1 Axes>"
      ]
     },
     "metadata": {},
     "output_type": "display_data"
    }
   ],
   "source": [
    "countries =  pd.DataFrame(user_ascent_grade_method.drop_duplicates(\n",
    "    subset=['id_user']).groupby('country_user').size())\n",
    "\n",
    "countries.index.name = 'country_user'\n",
    "countries.reset_index(inplace=True)\n",
    "countries = countries.rename(columns={countries.columns[1]: 'number_of_users'})\n",
    "\n",
    "#combine countries with less than 10 into \"other\" category\n",
    "countries['country_user'] = np.where(countries['number_of_users'] < 50, \n",
    "                                     'Other', countries['country_user'])\n",
    "\n",
    "countries = countries.groupby('country_user')['number_of_users'].sum().sort_values(ascending=False)\n",
    "cmap = plt.cm.tab10\n",
    "colors = cmap(np.arange(len(countries)) % cmap.N)\n",
    "countries.plot(kind='bar', color=colors, xlabel='Country', ylabel='Number of users' )"
   ]
  },
  {
   "cell_type": "markdown",
   "id": "ab1b19aa-023e-4a94-9f19-796cae2c3c2c",
   "metadata": {},
   "source": [
    "Now I will prepare the outcome variable for binary regression. Intitial testing with this dataset showed that multinomial regression would not be feasible with this dataset, so I will condense the outcome categories into high and low based on the median max grade."
   ]
  },
  {
   "cell_type": "code",
   "execution_count": 72,
   "id": "134bd7b2-ce58-4196-a580-e9db816d4641",
   "metadata": {},
   "outputs": [
    {
     "data": {
      "text/plain": [
       "8.0"
      ]
     },
     "execution_count": 72,
     "metadata": {},
     "output_type": "execute_result"
    },
    {
     "name": "stderr",
     "output_type": "stream",
     "text": [
      "/var/folders/h2/yfy4kgfn3l7_c6byc_fnzq340000gn/T/ipykernel_16781/2082596101.py:4: SettingWithCopyWarning: \n",
      "A value is trying to be set on a copy of a slice from a DataFrame.\n",
      "Try using .loc[row_indexer,col_indexer] = value instead\n",
      "\n",
      "See the caveats in the documentation: https://pandas.pydata.org/pandas-docs/stable/user_guide/indexing.html#returning-a-view-versus-a-copy\n",
      "  no_duplicate_users['max_grade_combined'] = np.where(\n"
     ]
    },
    {
     "data": {
      "text/plain": [
       "<AxesSubplot:xlabel='Max Grade', ylabel='Number of climbers'>"
      ]
     },
     "execution_count": 72,
     "metadata": {},
     "output_type": "execute_result"
    },
    {
     "data": {
      "image/png": "[encoded data removed]",
      "text/plain": [
       "<Figure size 640x480 with 1 Axes>"
      ]
     },
     "metadata": {},
     "output_type": "display_data"
    }
   ],
   "source": [
    "no_duplicate_users = user_ascent_grade_method.drop_duplicates(subset=['id_user'])\n",
    "\n",
    "np.median(no_duplicate_users['max_grade'])\n",
    "no_duplicate_users['max_grade_combined'] = np.where(\n",
    "    no_duplicate_users['max_grade'].isin([-1,0,1,2,3,4,5,6,7,8]), 'Low', 'High')\n",
    "\n",
    "max_grade_summary = pd.DataFrame(no_duplicate_users.groupby('max_grade_combined').size())\n",
    "max_grade_summary.index.name = 'max_grade_combined'\n",
    "max_grade_summary.reset_index(inplace=True)\n",
    "\n",
    "max_grade_summary.set_index('max_grade_combined').plot(\n",
    "    kind='bar',xlabel='Max Grade', ylabel='Number of climbers', \n",
    "    color='skyblue', edgecolor='k' )"
   ]
  },
  {
   "cell_type": "markdown",
   "id": "6d531623-c5b7-45cb-a0a0-063cb3598928",
   "metadata": {},
   "source": [
    "The classes are not perfectly balanced, so we will have to keep this in mind. I will now subset the data to only the features I will use for prediction and the outcome variable"
   ]
  },
  {
   "cell_type": "code",
   "execution_count": 76,
   "id": "e24ddb04-26bd-4ca6-998b-55db9f5bc925",
   "metadata": {},
   "outputs": [
    {
     "data": {
      "text/html": [
       "<div>\n",
       "<style scoped>\n",
       "    .dataframe tbody tr th:only-of-type {\n",
       "        vertical-align: middle;\n",
       "    }\n",
       "\n",
       "    .dataframe tbody tr th {\n",
       "        vertical-align: top;\n",
       "    }\n",
       "\n",
       "    .dataframe thead th {\n",
       "        text-align: right;\n",
       "    }\n",
       "</style>\n",
       "<table border=\"1\" class=\"dataframe\">\n",
       "  <thead>\n",
       "    <tr style=\"text-align: right;\">\n",
       "      <th></th>\n",
       "      <th>id_user</th>\n",
       "      <th>sex</th>\n",
       "      <th>bmi</th>\n",
       "      <th>years_exp_max_grade</th>\n",
       "      <th>age_max_grade</th>\n",
       "      <th>Redpoint</th>\n",
       "      <th>Onsight</th>\n",
       "      <th>Flash</th>\n",
       "      <th>max_grade_combined</th>\n",
       "    </tr>\n",
       "  </thead>\n",
       "  <tbody>\n",
       "    <tr>\n",
       "      <th>0</th>\n",
       "      <td>1</td>\n",
       "      <td>0</td>\n",
       "      <td>23.301095</td>\n",
       "      <td>6</td>\n",
       "      <td>26</td>\n",
       "      <td>1769</td>\n",
       "      <td>549</td>\n",
       "      <td>122</td>\n",
       "      <td>Low</td>\n",
       "    </tr>\n",
       "    <tr>\n",
       "      <th>40</th>\n",
       "      <td>3</td>\n",
       "      <td>0</td>\n",
       "      <td>24.074074</td>\n",
       "      <td>6</td>\n",
       "      <td>28</td>\n",
       "      <td>120</td>\n",
       "      <td>0</td>\n",
       "      <td>24</td>\n",
       "      <td>Low</td>\n",
       "    </tr>\n",
       "    <tr>\n",
       "      <th>52</th>\n",
       "      <td>10</td>\n",
       "      <td>0</td>\n",
       "      <td>22.589551</td>\n",
       "      <td>15</td>\n",
       "      <td>42</td>\n",
       "      <td>3486</td>\n",
       "      <td>664</td>\n",
       "      <td>332</td>\n",
       "      <td>Low</td>\n",
       "    </tr>\n",
       "    <tr>\n",
       "      <th>106</th>\n",
       "      <td>16</td>\n",
       "      <td>0</td>\n",
       "      <td>21.705129</td>\n",
       "      <td>15</td>\n",
       "      <td>38</td>\n",
       "      <td>4125</td>\n",
       "      <td>150</td>\n",
       "      <td>300</td>\n",
       "      <td>High</td>\n",
       "    </tr>\n",
       "    <tr>\n",
       "      <th>167</th>\n",
       "      <td>28</td>\n",
       "      <td>0</td>\n",
       "      <td>20.987654</td>\n",
       "      <td>25</td>\n",
       "      <td>41</td>\n",
       "      <td>59055</td>\n",
       "      <td>30099</td>\n",
       "      <td>24765</td>\n",
       "      <td>High</td>\n",
       "    </tr>\n",
       "    <tr>\n",
       "      <th>466</th>\n",
       "      <td>54</td>\n",
       "      <td>0</td>\n",
       "      <td>21.798202</td>\n",
       "      <td>8</td>\n",
       "      <td>30</td>\n",
       "      <td>52326</td>\n",
       "      <td>17442</td>\n",
       "      <td>8398</td>\n",
       "      <td>High</td>\n",
       "    </tr>\n",
       "    <tr>\n",
       "      <th>708</th>\n",
       "      <td>80</td>\n",
       "      <td>0</td>\n",
       "      <td>21.798202</td>\n",
       "      <td>6</td>\n",
       "      <td>25</td>\n",
       "      <td>460</td>\n",
       "      <td>0</td>\n",
       "      <td>69</td>\n",
       "      <td>Low</td>\n",
       "    </tr>\n",
       "    <tr>\n",
       "      <th>731</th>\n",
       "      <td>86</td>\n",
       "      <td>0</td>\n",
       "      <td>23.991213</td>\n",
       "      <td>10</td>\n",
       "      <td>28</td>\n",
       "      <td>441</td>\n",
       "      <td>0</td>\n",
       "      <td>0</td>\n",
       "      <td>Low</td>\n",
       "    </tr>\n",
       "    <tr>\n",
       "      <th>740</th>\n",
       "      <td>89</td>\n",
       "      <td>0</td>\n",
       "      <td>21.295295</td>\n",
       "      <td>22</td>\n",
       "      <td>40</td>\n",
       "      <td>8092</td>\n",
       "      <td>0</td>\n",
       "      <td>1785</td>\n",
       "      <td>High</td>\n",
       "    </tr>\n",
       "    <tr>\n",
       "      <th>823</th>\n",
       "      <td>110</td>\n",
       "      <td>0</td>\n",
       "      <td>23.836735</td>\n",
       "      <td>6</td>\n",
       "      <td>26</td>\n",
       "      <td>1173</td>\n",
       "      <td>0</td>\n",
       "      <td>51</td>\n",
       "      <td>Low</td>\n",
       "    </tr>\n",
       "  </tbody>\n",
       "</table>\n",
       "</div>"
      ],
      "text/plain": [
       "     id_user  sex        bmi  years_exp_max_grade  age_max_grade  Redpoint  \\\n",
       "0          1    0  23.301095                    6             26      1769   \n",
       "40         3    0  24.074074                    6             28       120   \n",
       "52        10    0  22.589551                   15             42      3486   \n",
       "106       16    0  21.705129                   15             38      4125   \n",
       "167       28    0  20.987654                   25             41     59055   \n",
       "466       54    0  21.798202                    8             30     52326   \n",
       "708       80    0  21.798202                    6             25       460   \n",
       "731       86    0  23.991213                   10             28       441   \n",
       "740       89    0  21.295295                   22             40      8092   \n",
       "823      110    0  23.836735                    6             26      1173   \n",
       "\n",
       "     Onsight  Flash max_grade_combined  \n",
       "0        549    122                Low  \n",
       "40         0     24                Low  \n",
       "52       664    332                Low  \n",
       "106      150    300               High  \n",
       "167    30099  24765               High  \n",
       "466    17442   8398               High  \n",
       "708        0     69                Low  \n",
       "731        0      0                Low  \n",
       "740        0   1785               High  \n",
       "823        0     51                Low  "
      ]
     },
     "execution_count": 76,
     "metadata": {},
     "output_type": "execute_result"
    },
    {
     "name": "stderr",
     "output_type": "stream",
     "text": [
      "/var/folders/h2/yfy4kgfn3l7_c6byc_fnzq340000gn/T/ipykernel_16781/3326142348.py:10: SettingWithCopyWarning: \n",
      "A value is trying to be set on a copy of a slice from a DataFrame.\n",
      "Try using .loc[row_indexer,col_indexer] = value instead\n",
      "\n",
      "See the caveats in the documentation: https://pandas.pydata.org/pandas-docs/stable/user_guide/indexing.html#returning-a-view-versus-a-copy\n",
      "  input_df['max_grade_outcome'] = pd.get_dummies(\n"
     ]
    },
    {
     "data": {
      "text/html": [
       "<div>\n",
       "<style scoped>\n",
       "    .dataframe tbody tr th:only-of-type {\n",
       "        vertical-align: middle;\n",
       "    }\n",
       "\n",
       "    .dataframe tbody tr th {\n",
       "        vertical-align: top;\n",
       "    }\n",
       "\n",
       "    .dataframe thead th {\n",
       "        text-align: right;\n",
       "    }\n",
       "</style>\n",
       "<table border=\"1\" class=\"dataframe\">\n",
       "  <thead>\n",
       "    <tr style=\"text-align: right;\">\n",
       "      <th></th>\n",
       "      <th>sex</th>\n",
       "      <th>bmi</th>\n",
       "      <th>years_exp_max_grade</th>\n",
       "      <th>age_max_grade</th>\n",
       "      <th>Redpoint</th>\n",
       "      <th>Onsight</th>\n",
       "      <th>Flash</th>\n",
       "    </tr>\n",
       "  </thead>\n",
       "  <tbody>\n",
       "    <tr>\n",
       "      <th>0</th>\n",
       "      <td>0</td>\n",
       "      <td>23.301095</td>\n",
       "      <td>6</td>\n",
       "      <td>26</td>\n",
       "      <td>1769</td>\n",
       "      <td>549</td>\n",
       "      <td>122</td>\n",
       "    </tr>\n",
       "    <tr>\n",
       "      <th>40</th>\n",
       "      <td>0</td>\n",
       "      <td>24.074074</td>\n",
       "      <td>6</td>\n",
       "      <td>28</td>\n",
       "      <td>120</td>\n",
       "      <td>0</td>\n",
       "      <td>24</td>\n",
       "    </tr>\n",
       "    <tr>\n",
       "      <th>52</th>\n",
       "      <td>0</td>\n",
       "      <td>22.589551</td>\n",
       "      <td>15</td>\n",
       "      <td>42</td>\n",
       "      <td>3486</td>\n",
       "      <td>664</td>\n",
       "      <td>332</td>\n",
       "    </tr>\n",
       "    <tr>\n",
       "      <th>106</th>\n",
       "      <td>0</td>\n",
       "      <td>21.705129</td>\n",
       "      <td>15</td>\n",
       "      <td>38</td>\n",
       "      <td>4125</td>\n",
       "      <td>150</td>\n",
       "      <td>300</td>\n",
       "    </tr>\n",
       "    <tr>\n",
       "      <th>167</th>\n",
       "      <td>0</td>\n",
       "      <td>20.987654</td>\n",
       "      <td>25</td>\n",
       "      <td>41</td>\n",
       "      <td>59055</td>\n",
       "      <td>30099</td>\n",
       "      <td>24765</td>\n",
       "    </tr>\n",
       "    <tr>\n",
       "      <th>...</th>\n",
       "      <td>...</td>\n",
       "      <td>...</td>\n",
       "      <td>...</td>\n",
       "      <td>...</td>\n",
       "      <td>...</td>\n",
       "      <td>...</td>\n",
       "      <td>...</td>\n",
       "    </tr>\n",
       "    <tr>\n",
       "      <th>467987</th>\n",
       "      <td>1</td>\n",
       "      <td>18.289895</td>\n",
       "      <td>8</td>\n",
       "      <td>28</td>\n",
       "      <td>0</td>\n",
       "      <td>1</td>\n",
       "      <td>0</td>\n",
       "    </tr>\n",
       "    <tr>\n",
       "      <th>467988</th>\n",
       "      <td>0</td>\n",
       "      <td>20.305175</td>\n",
       "      <td>15</td>\n",
       "      <td>30</td>\n",
       "      <td>0</td>\n",
       "      <td>4</td>\n",
       "      <td>0</td>\n",
       "    </tr>\n",
       "    <tr>\n",
       "      <th>467990</th>\n",
       "      <td>0</td>\n",
       "      <td>21.222808</td>\n",
       "      <td>6</td>\n",
       "      <td>15</td>\n",
       "      <td>0</td>\n",
       "      <td>1</td>\n",
       "      <td>0</td>\n",
       "    </tr>\n",
       "    <tr>\n",
       "      <th>467991</th>\n",
       "      <td>0</td>\n",
       "      <td>20.571429</td>\n",
       "      <td>13</td>\n",
       "      <td>29</td>\n",
       "      <td>0</td>\n",
       "      <td>1</td>\n",
       "      <td>0</td>\n",
       "    </tr>\n",
       "    <tr>\n",
       "      <th>467992</th>\n",
       "      <td>0</td>\n",
       "      <td>21.952479</td>\n",
       "      <td>22</td>\n",
       "      <td>39</td>\n",
       "      <td>0</td>\n",
       "      <td>1</td>\n",
       "      <td>0</td>\n",
       "    </tr>\n",
       "  </tbody>\n",
       "</table>\n",
       "<p>8427 rows × 7 columns</p>\n",
       "</div>"
      ],
      "text/plain": [
       "        sex        bmi  years_exp_max_grade  age_max_grade  Redpoint  Onsight  \\\n",
       "0         0  23.301095                    6             26      1769      549   \n",
       "40        0  24.074074                    6             28       120        0   \n",
       "52        0  22.589551                   15             42      3486      664   \n",
       "106       0  21.705129                   15             38      4125      150   \n",
       "167       0  20.987654                   25             41     59055    30099   \n",
       "...     ...        ...                  ...            ...       ...      ...   \n",
       "467987    1  18.289895                    8             28         0        1   \n",
       "467988    0  20.305175                   15             30         0        4   \n",
       "467990    0  21.222808                    6             15         0        1   \n",
       "467991    0  20.571429                   13             29         0        1   \n",
       "467992    0  21.952479                   22             39         0        1   \n",
       "\n",
       "        Flash  \n",
       "0         122  \n",
       "40         24  \n",
       "52        332  \n",
       "106       300  \n",
       "167     24765  \n",
       "...       ...  \n",
       "467987      0  \n",
       "467988      0  \n",
       "467990      0  \n",
       "467991      0  \n",
       "467992      0  \n",
       "\n",
       "[8427 rows x 7 columns]"
      ]
     },
     "execution_count": 76,
     "metadata": {},
     "output_type": "execute_result"
    },
    {
     "data": {
      "text/plain": [
       "0         0\n",
       "40        0\n",
       "52        0\n",
       "106       1\n",
       "167       1\n",
       "         ..\n",
       "467987    1\n",
       "467988    1\n",
       "467990    1\n",
       "467991    0\n",
       "467992    0\n",
       "Name: max_grade_outcome, Length: 8427, dtype: uint8"
      ]
     },
     "execution_count": 76,
     "metadata": {},
     "output_type": "execute_result"
    }
   ],
   "source": [
    "input_df = no_duplicate_users[['id_user', 'sex', 'bmi', 'years_exp_max_grade', \n",
    "                               'age_max_grade', 'Redpoint', 'Onsight','Flash', \n",
    "                               'max_grade_combined']]\n",
    "\n",
    "input_df.head(10)\n",
    "\n",
    "#convert outcome category to indicator variable\n",
    "#High = 1\n",
    "#Low =0 \n",
    "input_df['max_grade_outcome'] = pd.get_dummies(\n",
    "    input_df['max_grade_combined'])['High']\n",
    "\n",
    "x =input_df[['sex', 'bmi', 'years_exp_max_grade', \n",
    "             'age_max_grade', 'Redpoint', 'Onsight','Flash']]\n",
    "y= input_df['max_grade_outcome']\n",
    "x\n",
    "y"
   ]
  },
  {
   "cell_type": "markdown",
   "id": "4d5a246b-fcbe-43b6-88af-de63db84b9b3",
   "metadata": {},
   "source": [
    "Does the data separate used an unsupervised analysis?"
   ]
  },
  {
   "cell_type": "code",
   "execution_count": 77,
   "id": "40200007-61fa-4973-9018-f33715e64519",
   "metadata": {},
   "outputs": [
    {
     "data": {
      "text/plain": [
       "<AxesSubplot:xlabel='principal component 1', ylabel='principal component 2'>"
      ]
     },
     "execution_count": 77,
     "metadata": {},
     "output_type": "execute_result"
    },
    {
     "data": {
      "image/png": "[encoded data removed]",
      "text/plain": [
       "<Figure size 640x480 with 1 Axes>"
      ]
     },
     "metadata": {},
     "output_type": "display_data"
    }
   ],
   "source": [
    "pca = PCA(n_components=2)\n",
    "principalComponents = pca.fit_transform(x)\n",
    "\n",
    "principal_df = pd.DataFrame(data = principalComponents\n",
    "             , columns = ['principal component 1', 'principal component 2'])\n",
    "principal_df['max_grade'] = input_df['max_grade_combined']\n",
    "\n",
    "sns.scatterplot(\n",
    "    x=\"principal component 1\", y=\"principal component 2\",\n",
    "    hue=\"max_grade\",\n",
    "    palette=sns.color_palette(\"hls\", 2),\n",
    "    data=principal_df,\n",
    "    legend=\"full\",\n",
    "    alpha=0.85\n",
    ")"
   ]
  },
  {
   "cell_type": "markdown",
   "id": "abcf4d51-8c53-47e6-8d1a-f123538504e2",
   "metadata": {},
   "source": [
    "It does not appear to separate by high vs low on the first two components. Let's see if a supervised analysis performs better and can spearate climbers by these two groups."
   ]
  },
  {
   "cell_type": "markdown",
   "id": "e575858e-aff3-4198-a4d4-6173122b7d19",
   "metadata": {},
   "source": [
    "My first choice is to use logistic regression since it  provides explainable outcomes, so I will check if this algorithm is suitable\n",
    "\n",
    "There are 5 assumptions to check before using logistic regression:\n",
    "-multicollinearity\n",
    "-linearity\n",
    "-outliers\n",
    "-indepdence \n",
    "-binary outcome variable\n"
   ]
  },
  {
   "cell_type": "markdown",
   "id": "e344c027-c5b2-4cec-892b-fb388c9441f0",
   "metadata": {},
   "source": [
    "Lets check features for multicollineraity using pearson's correlation."
   ]
  },
  {
   "cell_type": "code",
   "execution_count": 78,
   "id": "2246dc2e-948b-4867-99da-6c3fd25a191d",
   "metadata": {},
   "outputs": [
    {
     "data": {
      "text/plain": [
       "<AxesSubplot:>"
      ]
     },
     "execution_count": 78,
     "metadata": {},
     "output_type": "execute_result"
    },
    {
     "data": {
      "image/png": "[encoded data removed]",
      "text/plain": [
       "<Figure size 640x480 with 2 Axes>"
      ]
     },
     "metadata": {},
     "output_type": "display_data"
    }
   ],
   "source": [
    "corr = x.corr()\n",
    "# plot the heatmap\n",
    "sns.heatmap(corr, \n",
    "        xticklabels=corr.columns,\n",
    "        yticklabels=corr.columns, annot=True)"
   ]
  },
  {
   "cell_type": "markdown",
   "id": "b4595cbb-cc4e-479d-ba46-06777d50221d",
   "metadata": {},
   "source": [
    "Redpoint and flash have a high correlation, which would not work well with logistic regression.\n",
    "\n",
    "Logistic regression also assumes features are indepdent of one another. In this dataset, the\n",
    "features do not come from repeated mesaruremtns of the same feature over time, and they are independent of one another."
   ]
  },
  {
   "cell_type": "markdown",
   "id": "a1b5736d-d198-4047-91ff-a40af679d5a4",
   "metadata": {},
   "source": [
    "Logistic regression assumes the relationship between each continuous feature\n",
    "and the logit of the outcome variable"
   ]
  },
  {
   "cell_type": "code",
   "execution_count": 85,
   "id": "3391e990-7ff0-4640-9e54-ca5a7d677c03",
   "metadata": {},
   "outputs": [
    {
     "data": {
      "text/plain": [
       "<AxesSubplot:xlabel='age_max_grade', ylabel='max_grade_outcome'>"
      ]
     },
     "execution_count": 85,
     "metadata": {},
     "output_type": "execute_result"
    },
    {
     "data": {
      "image/png": "[encoded data removed]",
      "text/plain": [
       "<Figure size 640x480 with 1 Axes>"
      ]
     },
     "metadata": {},
     "output_type": "display_data"
    }
   ],
   "source": [
    "sns.regplot(x= input_df['age_max_grade'], y=input_df['max_grade_outcome'], logistic= True)\n"
   ]
  },
  {
   "cell_type": "code",
   "execution_count": 86,
   "id": "a8c734e0-97db-4f8d-ac48-42712237a3ce",
   "metadata": {},
   "outputs": [
    {
     "data": {
      "text/plain": [
       "<AxesSubplot:xlabel='years_exp_max_grade', ylabel='max_grade_outcome'>"
      ]
     },
     "execution_count": 86,
     "metadata": {},
     "output_type": "execute_result"
    },
    {
     "data": {
      "image/png": "[encoded data removed]",
      "text/plain": [
       "<Figure size 640x480 with 1 Axes>"
      ]
     },
     "metadata": {},
     "output_type": "display_data"
    }
   ],
   "source": [
    "sns.regplot(x= input_df['years_exp_max_grade'], y=input_df['max_grade_outcome'], logistic= True)\n"
   ]
  },
  {
   "cell_type": "code",
   "execution_count": 87,
   "id": "acc10ba8-23c4-48e9-adc3-18a746529448",
   "metadata": {},
   "outputs": [
    {
     "data": {
      "text/plain": [
       "<AxesSubplot:xlabel='bmi', ylabel='max_grade_outcome'>"
      ]
     },
     "execution_count": 87,
     "metadata": {},
     "output_type": "execute_result"
    },
    {
     "data": {
      "image/png": "[encoded data removed]",
      "text/plain": [
       "<Figure size 640x480 with 1 Axes>"
      ]
     },
     "metadata": {},
     "output_type": "display_data"
    }
   ],
   "source": [
    "sns.regplot(x= input_df['bmi'], y=input_df['max_grade_outcome'], logistic= True)\n"
   ]
  },
  {
   "cell_type": "code",
   "execution_count": 88,
   "id": "bcd7e9a1-bcc9-49c9-b903-be58cfd9eab8",
   "metadata": {},
   "outputs": [
    {
     "data": {
      "text/plain": [
       "<AxesSubplot:xlabel='Onsight', ylabel='max_grade_outcome'>"
      ]
     },
     "execution_count": 88,
     "metadata": {},
     "output_type": "execute_result"
    },
    {
     "data": {
      "image/png": "[encoded data removed]",
      "text/plain": [
       "<Figure size 640x480 with 1 Axes>"
      ]
     },
     "metadata": {},
     "output_type": "display_data"
    }
   ],
   "source": [
    "sns.regplot(x= input_df['Onsight'], y=input_df['max_grade_outcome'], logistic= True)\n"
   ]
  },
  {
   "cell_type": "code",
   "execution_count": 89,
   "id": "12c52b17-5b80-40ce-9feb-a92dcdb61914",
   "metadata": {},
   "outputs": [
    {
     "data": {
      "text/plain": [
       "<AxesSubplot:xlabel='Flash', ylabel='max_grade_outcome'>"
      ]
     },
     "execution_count": 89,
     "metadata": {},
     "output_type": "execute_result"
    },
    {
     "data": {
      "image/png": "[encoded data removed]",
      "text/plain": [
       "<Figure size 640x480 with 1 Axes>"
      ]
     },
     "metadata": {},
     "output_type": "display_data"
    }
   ],
   "source": [
    "sns.regplot(x= input_df['Flash'], y=input_df['max_grade_outcome'], logistic= True)\n"
   ]
  },
  {
   "cell_type": "markdown",
   "id": "a3d4ffb5-3bef-4642-921a-bdbdce242fac",
   "metadata": {},
   "source": [
    "While most of the features appear to meet this assumption, the number of flashes and onsights looks a little off. I will continue to test the other fewatures to see if logistic regression\n",
    "is appropriate. "
   ]
  },
  {
   "cell_type": "markdown",
   "id": "806e8b07-bd5e-4d5c-81e2-3e53698e5d17",
   "metadata": {},
   "source": [
    "Logistic regression does not work well with outliers. Let's check these features for outliers."
   ]
  },
  {
   "cell_type": "code",
   "execution_count": 90,
   "id": "9b40426d-528f-4c19-afbe-f047c5724c9b",
   "metadata": {},
   "outputs": [
    {
     "data": {
      "text/plain": [
       "<AxesSubplot:>"
      ]
     },
     "execution_count": 90,
     "metadata": {},
     "output_type": "execute_result"
    },
    {
     "data": {
      "image/png": "[encoded data removed]",
      "text/plain": [
       "<Figure size 640x480 with 1 Axes>"
      ]
     },
     "metadata": {},
     "output_type": "display_data"
    }
   ],
   "source": [
    "sns.boxplot(data= x['bmi'])\n"
   ]
  },
  {
   "cell_type": "code",
   "execution_count": 91,
   "id": "35f86748-b99a-48ce-ab9b-df0acb1aba41",
   "metadata": {},
   "outputs": [
    {
     "data": {
      "text/plain": [
       "<AxesSubplot:>"
      ]
     },
     "execution_count": 91,
     "metadata": {},
     "output_type": "execute_result"
    },
    {
     "data": {
      "image/png": "[encoded data removed]",
      "text/plain": [
       "<Figure size 640x480 with 1 Axes>"
      ]
     },
     "metadata": {},
     "output_type": "display_data"
    }
   ],
   "source": [
    "sns.boxplot(data= x[['years_exp_max_grade', 'age_max_grade']])\n"
   ]
  },
  {
   "cell_type": "code",
   "execution_count": 92,
   "id": "2ed2a39e-06ff-43a2-946f-e30705777898",
   "metadata": {},
   "outputs": [
    {
     "data": {
      "text/plain": [
       "<AxesSubplot:>"
      ]
     },
     "execution_count": 92,
     "metadata": {},
     "output_type": "execute_result"
    },
    {
     "data": {
      "image/png": "[encoded data removed]",
      "text/plain": [
       "<Figure size 640x480 with 1 Axes>"
      ]
     },
     "metadata": {},
     "output_type": "display_data"
    }
   ],
   "source": [
    "sns.boxplot(data= x[['Onsight', 'Flash']])"
   ]
  },
  {
   "cell_type": "markdown",
   "id": "ffa82021-da53-4ace-835d-cf47908f47e6",
   "metadata": {},
   "source": [
    "There are quite a few outliers across all of the categories with many of the features \n",
    "skewed toward higher values. Given that a few of the assumptions of logsitic regression have been violated, logistic regression is not the best algorithm for this analysis."
   ]
  },
  {
   "cell_type": "markdown",
   "id": "4ba7959a-0b29-47da-b95b-011a1f3d1e85",
   "metadata": {},
   "source": [
    "Instead, I will try svm, random forest, and xgboost since they are more robust to outliers and mutlicollinearity, even though\n",
    "they are at the expense of feature explainability."
   ]
  },
  {
   "cell_type": "markdown",
   "id": "5b20ec0f-db6d-4549-89e0-9377f6e35511",
   "metadata": {},
   "source": [
    "Ill first build a model using svm apply gridsearch for hyperparamter tuning. I am checking variables acrossthe follow paramters:\n",
    "    kernel, C, and gamma."
   ]
  },
  {
   "cell_type": "code",
   "execution_count": null,
   "id": "248475a4-66d8-4fc0-b361-15326440b5e2",
   "metadata": {},
   "outputs": [],
   "source": [
    "#svm hyperparamter tuning\n",
    "model = SVC()\n",
    "kernel = ['poly', 'rbf', 'sigmoid']\n",
    "C = [50, 10, 1.0, 0.1, 0.01]\n",
    "gamma = ['scale']\n",
    "# define grid search\n",
    "grid = dict(kernel=kernel,C=C,gamma=gamma)\n",
    "cv = RepeatedStratifiedKFold(n_splits=10, n_repeats=3, random_state=1)\n",
    "grid_search = GridSearchCV(estimator=model, param_grid=grid, cv=cv, scoring='accuracy',error_score=0)\n",
    "grid_result_svm = grid_search.fit(x, y)\n",
    "# summarize results\n",
    "print(\"Best: %f using %s\" % (grid_result_svm.best_score_, grid_result_svm.best_params_))\n",
    "means = grid_result_svm.cv_results_['mean_test_score']\n",
    "stds = grid_result_svm.cv_results_['std_test_score']\n",
    "params = grid_result_svm.cv_results_['params']\n",
    "for mean, stdev, param in zip(means, stds, params):\n",
    "    print(\"%f (%f) with: %r\" % (mean, stdev, param))"
   ]
  },
  {
   "cell_type": "markdown",
   "id": "c1010b34-1c72-4188-b3de-a38746a35531",
   "metadata": {},
   "source": [
    "For xgboost I will check many parameters, including n_estimators, leanring_rate, subsample, and max_depth."
   ]
  },
  {
   "cell_type": "code",
   "execution_count": null,
   "id": "8dbc19e0-06c3-4b94-99f9-f96bef3acb97",
   "metadata": {},
   "outputs": [],
   "source": [
    "#xgboost   \n",
    "model = XGBClassifier()\n",
    "n_estimators = [10, 100, 1000]\n",
    "learning_rate = [0.001, 0.01, 0.1]\n",
    "subsample = [0.5, 0.7, 1.0]\n",
    "max_depth = [3, 7, 9]\n",
    "# define grid search\n",
    "grid = dict(learning_rate=learning_rate, n_estimators=n_estimators, subsample=subsample, max_depth=max_depth)\n",
    "cv = RepeatedStratifiedKFold(n_splits=10, n_repeats=3, random_state=1)\n",
    "grid_search = GridSearchCV(estimator=model, param_grid=grid, cv=cv, scoring='accuracy',error_score=0)\n",
    "grid_result_xgb = grid_search.fit(x, y)\n",
    "# summarize results\n",
    "print(\"Best: %f using %s\" % (grid_result_xgb.best_score_, grid_result_xgb.best_params_))\n",
    "means = grid_result_xgb.cv_results_['mean_test_score']\n",
    "stds = grid_result_xgb.cv_results_['std_test_score']\n",
    "params = grid_result_xgb.cv_results_['params']\n",
    "for mean, stdev, param in zip(means, stds, params):\n",
    "    print(\"%f (%f) with: %r\" % (mean, stdev, param))"
   ]
  },
  {
   "cell_type": "markdown",
   "id": "7ccc1be6-4bd2-430c-a3f6-62213ab25b54",
   "metadata": {},
   "source": [
    "For random forest I will check across n_estimators and max_features."
   ]
  },
  {
   "cell_type": "code",
   "execution_count": null,
   "id": "4b20837b-a903-47ce-ad82-c2a3533edb68",
   "metadata": {},
   "outputs": [],
   "source": [
    "#randomforest hyperparamter tuning\n",
    "model = RandomForestClassifier()\n",
    "n_estimators = [10, 100, 1000]\n",
    "max_features = ['sqrt', 'log2']\n",
    "# define grid search\n",
    "grid = dict(n_estimators=n_estimators,max_features=max_features)\n",
    "cv = RepeatedStratifiedKFold(n_splits=10, n_repeats=3, random_state=1)\n",
    "grid_search = GridSearchCV(estimator=model, param_grid=grid, cv=cv, scoring='accuracy',error_score=0)\n",
    "grid_result_rf = grid_search.fit(x, y)\n",
    "#summarize results\n",
    "print(\"Best: %f using %s\" % (grid_result_rf.best_score_, grid_result_rf.best_params_))\n",
    "means = grid_result_rf.cv_results_['mean_test_score']\n",
    "stds = grid_result_rf.cv_results_['std_test_score']\n",
    "params = grid_result_rf.cv_results_['params']\n",
    "for mean, stdev, param in zip(means, stds, params):\n",
    "    print(\"%f (%f) with: %r\" % (mean, stdev, param))"
   ]
  },
  {
   "cell_type": "markdown",
   "id": "2ad936c1-73dc-47b0-bb76-94356f5bf025",
   "metadata": {},
   "source": [
    "I'll assess the results across all algorithms and hyperparamters to see which one would be best to use predict maximum bouldering grade based on these features."
   ]
  },
  {
   "cell_type": "code",
   "execution_count": null,
   "id": "01f683d2-8ef7-4e82-b563-b7c811d4dbb5",
   "metadata": {},
   "outputs": [],
   "source": [
    "svm_accuracy = pd.DataFrame(grid_result_svm.cv_results_['mean_test_score'])\n",
    "svm_accuracy['algorithm'] = 'SVM'\n",
    "\n",
    "xgb_accuracy = pd.DataFrame(grid_result_xgb.cv_results_['mean_test_score'])\n",
    "xgb_accuracy['algorithm'] = 'XGB'\n",
    "\n",
    "rf_accuracy = pd.DataFrame(grid_result_rf.cv_results_['mean_test_score'])\n",
    "rf_accuracy['algorithm'] = 'RF'\n",
    "\n",
    "accuracy_comparison = pd.concat([svm_accuracy, xgb_accuracy, rf_accuracy])\n",
    "accuracy_comparison = accuracy_comparison.rename(columns={accuracy_comparison.columns[0]: 'accuracy'})\n",
    "\n",
    "accuracy_comparison.sort_values('accuracy', ascending=False).head(10)\n",
    "\n",
    "sns.boxplot(data= accuracy_comparison, x='algorithm', y='accuracy')\n",
    "sns.stripplot(data= accuracy_comparison, x='algorithm', y='accuracy', color='black',  alpha = 0.6)"
   ]
  },
  {
   "cell_type": "markdown",
   "id": "ec4fb3fa-a29e-4d6e-a44a-55287a6ae932",
   "metadata": {},
   "source": [
    "It looks like xgboost is the best perfomring model. Lets build a model using these paramters and make some predictions."
   ]
  },
  {
   "cell_type": "code",
   "execution_count": null,
   "id": "c5fe9f59-a1c8-4211-bae5-a6dad18f47e8",
   "metadata": {},
   "outputs": [],
   "source": [
    "#define model with best parameters\n",
    "print(grid_result_xgb.best_params_)\n",
    "best_xgb_model = grid_result_xgb.best_estimator_\n",
    "\n",
    "x_train, x_test, y_train, y_test = train_test_split(x, y, test_size = 0.2, random_state = 42)\n",
    "\n",
    "#feature importance\n",
    "best_xgb_model.fit(x_train, y_train)\n",
    "plot_importance(best_xgb_model)\n",
    "\n"
   ]
  },
  {
   "cell_type": "markdown",
   "id": "3de69cdf-bace-4ded-a58c-f341a89a94af",
   "metadata": {},
   "source": [
    "These are the most important features."
   ]
  },
  {
   "cell_type": "code",
   "execution_count": null,
   "id": "5556310c-d571-463c-a425-8c7d153957ca",
   "metadata": {},
   "outputs": [],
   "source": [
    "# Generate predictions with the best model\n",
    "y_pred = best_xgb_model.predict(x_test)\n",
    "\n",
    "# Create the confusion matrix\n",
    "cm = confusion_matrix(y_test, y_pred)\n",
    "ConfusionMatrixDisplay(confusion_matrix=cm).plot()\n",
    "\n",
    "accuracy = accuracy_score(y_test, y_pred)\n",
    "precision = precision_score(y_test, y_pred)\n",
    "recall = recall_score(y_test, y_pred)\n",
    "\n",
    "print(\"Accuracy:\", accuracy)\n",
    "print(\"Precision:\", precision)\n",
    "print(\"Recall:\", recall)\n"
   ]
  },
  {
   "cell_type": "markdown",
   "id": "f0fcdab2-98ce-4f87-9750-fd74693c2e56",
   "metadata": {},
   "source": [
    "In the future, it would be great to identify more features that could improve accuracy, deploy this model in an application that tracks climbing stats and predicts maximum bouldering grade, as well as adjust to model from binary to multinomial regression make more informative predictions."
   ]
  }
 ],
 "metadata": {
  "kernelspec": {
   "display_name": "Python 3 (ipykernel)",
   "language": "python",
   "name": "python3"
  },
  "language_info": {
   "codemirror_mode": {
    "name": "ipython",
    "version": 3
   },
   "file_extension": ".py",
   "mimetype": "text/x-python",
   "name": "python",
   "nbconvert_exporter": "python",
   "pygments_lexer": "ipython3",
   "version": "3.9.15"
  }
 },
 "nbformat": 4,
 "nbformat_minor": 5
}
